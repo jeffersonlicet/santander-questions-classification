{
  "nbformat": 4,
  "nbformat_minor": 0,
  "metadata": {
    "kernelspec": {
      "name": "python3",
      "display_name": "Python 3",
      "language": "python"
    },
    "language_info": {
      "name": "python",
      "version": "3.7.6",
      "mimetype": "text/x-python",
      "codemirror_mode": {
        "name": "ipython",
        "version": 3
      },
      "pygments_lexer": "ipython3",
      "nbconvert_exporter": "python",
      "file_extension": ".py"
    },
    "colab": {
      "name": "BERT-0.86.ipynb",
      "provenance": [],
      "collapsed_sections": [],
      "toc_visible": true,
      "machine_shape": "hm"
    },
    "accelerator": "TPU",
    "widgets": {
      "application/vnd.jupyter.widget-state+json": {
        "3d93c795723e4e888a785efc6774b37b": {
          "model_module": "@jupyter-widgets/controls",
          "model_name": "HBoxModel",
          "state": {
            "_view_name": "HBoxView",
            "_dom_classes": [],
            "_model_name": "HBoxModel",
            "_view_module": "@jupyter-widgets/controls",
            "_model_module_version": "1.5.0",
            "_view_count": null,
            "_view_module_version": "1.5.0",
            "box_style": "",
            "layout": "IPY_MODEL_5f521387b10e40eab132c93d69e0405c",
            "_model_module": "@jupyter-widgets/controls",
            "children": [
              "IPY_MODEL_ebed3e095c0c423e937ed3cc2892d77d",
              "IPY_MODEL_8d662b32cf4c46f991ed3a478be995f4"
            ]
          }
        },
        "5f521387b10e40eab132c93d69e0405c": {
          "model_module": "@jupyter-widgets/base",
          "model_name": "LayoutModel",
          "state": {
            "_view_name": "LayoutView",
            "grid_template_rows": null,
            "right": null,
            "justify_content": null,
            "_view_module": "@jupyter-widgets/base",
            "overflow": null,
            "_model_module_version": "1.2.0",
            "_view_count": null,
            "flex_flow": null,
            "width": null,
            "min_width": null,
            "border": null,
            "align_items": null,
            "bottom": null,
            "_model_module": "@jupyter-widgets/base",
            "top": null,
            "grid_column": null,
            "overflow_y": null,
            "overflow_x": null,
            "grid_auto_flow": null,
            "grid_area": null,
            "grid_template_columns": null,
            "flex": null,
            "_model_name": "LayoutModel",
            "justify_items": null,
            "grid_row": null,
            "max_height": null,
            "align_content": null,
            "visibility": null,
            "align_self": null,
            "height": null,
            "min_height": null,
            "padding": null,
            "grid_auto_rows": null,
            "grid_gap": null,
            "max_width": null,
            "order": null,
            "_view_module_version": "1.2.0",
            "grid_template_areas": null,
            "object_position": null,
            "object_fit": null,
            "grid_auto_columns": null,
            "margin": null,
            "display": null,
            "left": null
          }
        },
        "ebed3e095c0c423e937ed3cc2892d77d": {
          "model_module": "@jupyter-widgets/controls",
          "model_name": "FloatProgressModel",
          "state": {
            "_view_name": "ProgressView",
            "style": "IPY_MODEL_2c41bb025f5841118be0dbcee76ee273",
            "_dom_classes": [],
            "description": "Downloading: 100%",
            "_model_name": "FloatProgressModel",
            "bar_style": "success",
            "max": 242120,
            "_view_module": "@jupyter-widgets/controls",
            "_model_module_version": "1.5.0",
            "value": 242120,
            "_view_count": null,
            "_view_module_version": "1.5.0",
            "orientation": "horizontal",
            "min": 0,
            "description_tooltip": null,
            "_model_module": "@jupyter-widgets/controls",
            "layout": "IPY_MODEL_0612f0b562b546ed97828fa404e212d8"
          }
        },
        "8d662b32cf4c46f991ed3a478be995f4": {
          "model_module": "@jupyter-widgets/controls",
          "model_name": "HTMLModel",
          "state": {
            "_view_name": "HTMLView",
            "style": "IPY_MODEL_be7c38b4ff6c466c87ce1d7172ae4276",
            "_dom_classes": [],
            "description": "",
            "_model_name": "HTMLModel",
            "placeholder": "​",
            "_view_module": "@jupyter-widgets/controls",
            "_model_module_version": "1.5.0",
            "value": " 242k/242k [00:00&lt;00:00, 711kB/s]",
            "_view_count": null,
            "_view_module_version": "1.5.0",
            "description_tooltip": null,
            "_model_module": "@jupyter-widgets/controls",
            "layout": "IPY_MODEL_bb0c6f9e4f114417972173b13b7daa5e"
          }
        },
        "2c41bb025f5841118be0dbcee76ee273": {
          "model_module": "@jupyter-widgets/controls",
          "model_name": "ProgressStyleModel",
          "state": {
            "_view_name": "StyleView",
            "_model_name": "ProgressStyleModel",
            "description_width": "initial",
            "_view_module": "@jupyter-widgets/base",
            "_model_module_version": "1.5.0",
            "_view_count": null,
            "_view_module_version": "1.2.0",
            "bar_color": null,
            "_model_module": "@jupyter-widgets/controls"
          }
        },
        "0612f0b562b546ed97828fa404e212d8": {
          "model_module": "@jupyter-widgets/base",
          "model_name": "LayoutModel",
          "state": {
            "_view_name": "LayoutView",
            "grid_template_rows": null,
            "right": null,
            "justify_content": null,
            "_view_module": "@jupyter-widgets/base",
            "overflow": null,
            "_model_module_version": "1.2.0",
            "_view_count": null,
            "flex_flow": null,
            "width": null,
            "min_width": null,
            "border": null,
            "align_items": null,
            "bottom": null,
            "_model_module": "@jupyter-widgets/base",
            "top": null,
            "grid_column": null,
            "overflow_y": null,
            "overflow_x": null,
            "grid_auto_flow": null,
            "grid_area": null,
            "grid_template_columns": null,
            "flex": null,
            "_model_name": "LayoutModel",
            "justify_items": null,
            "grid_row": null,
            "max_height": null,
            "align_content": null,
            "visibility": null,
            "align_self": null,
            "height": null,
            "min_height": null,
            "padding": null,
            "grid_auto_rows": null,
            "grid_gap": null,
            "max_width": null,
            "order": null,
            "_view_module_version": "1.2.0",
            "grid_template_areas": null,
            "object_position": null,
            "object_fit": null,
            "grid_auto_columns": null,
            "margin": null,
            "display": null,
            "left": null
          }
        },
        "be7c38b4ff6c466c87ce1d7172ae4276": {
          "model_module": "@jupyter-widgets/controls",
          "model_name": "DescriptionStyleModel",
          "state": {
            "_view_name": "StyleView",
            "_model_name": "DescriptionStyleModel",
            "description_width": "",
            "_view_module": "@jupyter-widgets/base",
            "_model_module_version": "1.5.0",
            "_view_count": null,
            "_view_module_version": "1.2.0",
            "_model_module": "@jupyter-widgets/controls"
          }
        },
        "bb0c6f9e4f114417972173b13b7daa5e": {
          "model_module": "@jupyter-widgets/base",
          "model_name": "LayoutModel",
          "state": {
            "_view_name": "LayoutView",
            "grid_template_rows": null,
            "right": null,
            "justify_content": null,
            "_view_module": "@jupyter-widgets/base",
            "overflow": null,
            "_model_module_version": "1.2.0",
            "_view_count": null,
            "flex_flow": null,
            "width": null,
            "min_width": null,
            "border": null,
            "align_items": null,
            "bottom": null,
            "_model_module": "@jupyter-widgets/base",
            "top": null,
            "grid_column": null,
            "overflow_y": null,
            "overflow_x": null,
            "grid_auto_flow": null,
            "grid_area": null,
            "grid_template_columns": null,
            "flex": null,
            "_model_name": "LayoutModel",
            "justify_items": null,
            "grid_row": null,
            "max_height": null,
            "align_content": null,
            "visibility": null,
            "align_self": null,
            "height": null,
            "min_height": null,
            "padding": null,
            "grid_auto_rows": null,
            "grid_gap": null,
            "max_width": null,
            "order": null,
            "_view_module_version": "1.2.0",
            "grid_template_areas": null,
            "object_position": null,
            "object_fit": null,
            "grid_auto_columns": null,
            "margin": null,
            "display": null,
            "left": null
          }
        },
        "1fcdf3efd40a48cfb7f94fde52158e9b": {
          "model_module": "@jupyter-widgets/controls",
          "model_name": "HBoxModel",
          "state": {
            "_view_name": "HBoxView",
            "_dom_classes": [],
            "_model_name": "HBoxModel",
            "_view_module": "@jupyter-widgets/controls",
            "_model_module_version": "1.5.0",
            "_view_count": null,
            "_view_module_version": "1.5.0",
            "box_style": "",
            "layout": "IPY_MODEL_723f0e8a681448a8b3568f05333e549c",
            "_model_module": "@jupyter-widgets/controls",
            "children": [
              "IPY_MODEL_cac83397242d44ce95400cd276f3a0d3",
              "IPY_MODEL_6b005e5d9b754e8882f7846db20928dd"
            ]
          }
        },
        "723f0e8a681448a8b3568f05333e549c": {
          "model_module": "@jupyter-widgets/base",
          "model_name": "LayoutModel",
          "state": {
            "_view_name": "LayoutView",
            "grid_template_rows": null,
            "right": null,
            "justify_content": null,
            "_view_module": "@jupyter-widgets/base",
            "overflow": null,
            "_model_module_version": "1.2.0",
            "_view_count": null,
            "flex_flow": null,
            "width": null,
            "min_width": null,
            "border": null,
            "align_items": null,
            "bottom": null,
            "_model_module": "@jupyter-widgets/base",
            "top": null,
            "grid_column": null,
            "overflow_y": null,
            "overflow_x": null,
            "grid_auto_flow": null,
            "grid_area": null,
            "grid_template_columns": null,
            "flex": null,
            "_model_name": "LayoutModel",
            "justify_items": null,
            "grid_row": null,
            "max_height": null,
            "align_content": null,
            "visibility": null,
            "align_self": null,
            "height": null,
            "min_height": null,
            "padding": null,
            "grid_auto_rows": null,
            "grid_gap": null,
            "max_width": null,
            "order": null,
            "_view_module_version": "1.2.0",
            "grid_template_areas": null,
            "object_position": null,
            "object_fit": null,
            "grid_auto_columns": null,
            "margin": null,
            "display": null,
            "left": null
          }
        },
        "cac83397242d44ce95400cd276f3a0d3": {
          "model_module": "@jupyter-widgets/controls",
          "model_name": "FloatProgressModel",
          "state": {
            "_view_name": "ProgressView",
            "style": "IPY_MODEL_bf9124f7e99f4cfa94d2f40039d04927",
            "_dom_classes": [],
            "description": "Downloading: 100%",
            "_model_name": "FloatProgressModel",
            "bar_style": "success",
            "max": 2,
            "_view_module": "@jupyter-widgets/controls",
            "_model_module_version": "1.5.0",
            "value": 2,
            "_view_count": null,
            "_view_module_version": "1.5.0",
            "orientation": "horizontal",
            "min": 0,
            "description_tooltip": null,
            "_model_module": "@jupyter-widgets/controls",
            "layout": "IPY_MODEL_bd93d44bbb8445889fbdb5ad21834ea3"
          }
        },
        "6b005e5d9b754e8882f7846db20928dd": {
          "model_module": "@jupyter-widgets/controls",
          "model_name": "HTMLModel",
          "state": {
            "_view_name": "HTMLView",
            "style": "IPY_MODEL_821ca18d9b964057b3214e64361c3372",
            "_dom_classes": [],
            "description": "",
            "_model_name": "HTMLModel",
            "placeholder": "​",
            "_view_module": "@jupyter-widgets/controls",
            "_model_module_version": "1.5.0",
            "value": " 2.00/2.00 [00:00&lt;00:00, 2.35B/s]",
            "_view_count": null,
            "_view_module_version": "1.5.0",
            "description_tooltip": null,
            "_model_module": "@jupyter-widgets/controls",
            "layout": "IPY_MODEL_1c9f3b7e2bec4813bb1f364247a0133c"
          }
        },
        "bf9124f7e99f4cfa94d2f40039d04927": {
          "model_module": "@jupyter-widgets/controls",
          "model_name": "ProgressStyleModel",
          "state": {
            "_view_name": "StyleView",
            "_model_name": "ProgressStyleModel",
            "description_width": "initial",
            "_view_module": "@jupyter-widgets/base",
            "_model_module_version": "1.5.0",
            "_view_count": null,
            "_view_module_version": "1.2.0",
            "bar_color": null,
            "_model_module": "@jupyter-widgets/controls"
          }
        },
        "bd93d44bbb8445889fbdb5ad21834ea3": {
          "model_module": "@jupyter-widgets/base",
          "model_name": "LayoutModel",
          "state": {
            "_view_name": "LayoutView",
            "grid_template_rows": null,
            "right": null,
            "justify_content": null,
            "_view_module": "@jupyter-widgets/base",
            "overflow": null,
            "_model_module_version": "1.2.0",
            "_view_count": null,
            "flex_flow": null,
            "width": null,
            "min_width": null,
            "border": null,
            "align_items": null,
            "bottom": null,
            "_model_module": "@jupyter-widgets/base",
            "top": null,
            "grid_column": null,
            "overflow_y": null,
            "overflow_x": null,
            "grid_auto_flow": null,
            "grid_area": null,
            "grid_template_columns": null,
            "flex": null,
            "_model_name": "LayoutModel",
            "justify_items": null,
            "grid_row": null,
            "max_height": null,
            "align_content": null,
            "visibility": null,
            "align_self": null,
            "height": null,
            "min_height": null,
            "padding": null,
            "grid_auto_rows": null,
            "grid_gap": null,
            "max_width": null,
            "order": null,
            "_view_module_version": "1.2.0",
            "grid_template_areas": null,
            "object_position": null,
            "object_fit": null,
            "grid_auto_columns": null,
            "margin": null,
            "display": null,
            "left": null
          }
        },
        "821ca18d9b964057b3214e64361c3372": {
          "model_module": "@jupyter-widgets/controls",
          "model_name": "DescriptionStyleModel",
          "state": {
            "_view_name": "StyleView",
            "_model_name": "DescriptionStyleModel",
            "description_width": "",
            "_view_module": "@jupyter-widgets/base",
            "_model_module_version": "1.5.0",
            "_view_count": null,
            "_view_module_version": "1.2.0",
            "_model_module": "@jupyter-widgets/controls"
          }
        },
        "1c9f3b7e2bec4813bb1f364247a0133c": {
          "model_module": "@jupyter-widgets/base",
          "model_name": "LayoutModel",
          "state": {
            "_view_name": "LayoutView",
            "grid_template_rows": null,
            "right": null,
            "justify_content": null,
            "_view_module": "@jupyter-widgets/base",
            "overflow": null,
            "_model_module_version": "1.2.0",
            "_view_count": null,
            "flex_flow": null,
            "width": null,
            "min_width": null,
            "border": null,
            "align_items": null,
            "bottom": null,
            "_model_module": "@jupyter-widgets/base",
            "top": null,
            "grid_column": null,
            "overflow_y": null,
            "overflow_x": null,
            "grid_auto_flow": null,
            "grid_area": null,
            "grid_template_columns": null,
            "flex": null,
            "_model_name": "LayoutModel",
            "justify_items": null,
            "grid_row": null,
            "max_height": null,
            "align_content": null,
            "visibility": null,
            "align_self": null,
            "height": null,
            "min_height": null,
            "padding": null,
            "grid_auto_rows": null,
            "grid_gap": null,
            "max_width": null,
            "order": null,
            "_view_module_version": "1.2.0",
            "grid_template_areas": null,
            "object_position": null,
            "object_fit": null,
            "grid_auto_columns": null,
            "margin": null,
            "display": null,
            "left": null
          }
        },
        "c3d02870e3054574b875b9c2bf62874c": {
          "model_module": "@jupyter-widgets/controls",
          "model_name": "HBoxModel",
          "state": {
            "_view_name": "HBoxView",
            "_dom_classes": [],
            "_model_name": "HBoxModel",
            "_view_module": "@jupyter-widgets/controls",
            "_model_module_version": "1.5.0",
            "_view_count": null,
            "_view_module_version": "1.5.0",
            "box_style": "",
            "layout": "IPY_MODEL_da11be840dda42b997f50415f31c787c",
            "_model_module": "@jupyter-widgets/controls",
            "children": [
              "IPY_MODEL_9398691f6e7c488ab5ad1ffc6ec71a42",
              "IPY_MODEL_82d0980002d54bf6aebf283158aa15b3"
            ]
          }
        },
        "da11be840dda42b997f50415f31c787c": {
          "model_module": "@jupyter-widgets/base",
          "model_name": "LayoutModel",
          "state": {
            "_view_name": "LayoutView",
            "grid_template_rows": null,
            "right": null,
            "justify_content": null,
            "_view_module": "@jupyter-widgets/base",
            "overflow": null,
            "_model_module_version": "1.2.0",
            "_view_count": null,
            "flex_flow": null,
            "width": null,
            "min_width": null,
            "border": null,
            "align_items": null,
            "bottom": null,
            "_model_module": "@jupyter-widgets/base",
            "top": null,
            "grid_column": null,
            "overflow_y": null,
            "overflow_x": null,
            "grid_auto_flow": null,
            "grid_area": null,
            "grid_template_columns": null,
            "flex": null,
            "_model_name": "LayoutModel",
            "justify_items": null,
            "grid_row": null,
            "max_height": null,
            "align_content": null,
            "visibility": null,
            "align_self": null,
            "height": null,
            "min_height": null,
            "padding": null,
            "grid_auto_rows": null,
            "grid_gap": null,
            "max_width": null,
            "order": null,
            "_view_module_version": "1.2.0",
            "grid_template_areas": null,
            "object_position": null,
            "object_fit": null,
            "grid_auto_columns": null,
            "margin": null,
            "display": null,
            "left": null
          }
        },
        "9398691f6e7c488ab5ad1ffc6ec71a42": {
          "model_module": "@jupyter-widgets/controls",
          "model_name": "FloatProgressModel",
          "state": {
            "_view_name": "ProgressView",
            "style": "IPY_MODEL_d61eebbe8aa44446853da6fa2d2745c9",
            "_dom_classes": [],
            "description": "Downloading: 100%",
            "_model_name": "FloatProgressModel",
            "bar_style": "success",
            "max": 112,
            "_view_module": "@jupyter-widgets/controls",
            "_model_module_version": "1.5.0",
            "value": 112,
            "_view_count": null,
            "_view_module_version": "1.5.0",
            "orientation": "horizontal",
            "min": 0,
            "description_tooltip": null,
            "_model_module": "@jupyter-widgets/controls",
            "layout": "IPY_MODEL_051d3ea3bdca4bcf94f5018b6838c1c7"
          }
        },
        "82d0980002d54bf6aebf283158aa15b3": {
          "model_module": "@jupyter-widgets/controls",
          "model_name": "HTMLModel",
          "state": {
            "_view_name": "HTMLView",
            "style": "IPY_MODEL_1cdb52fb5e7a4b2480ed825dc5ed4a04",
            "_dom_classes": [],
            "description": "",
            "_model_name": "HTMLModel",
            "placeholder": "​",
            "_view_module": "@jupyter-widgets/controls",
            "_model_module_version": "1.5.0",
            "value": " 112/112 [00:00&lt;00:00, 224B/s]",
            "_view_count": null,
            "_view_module_version": "1.5.0",
            "description_tooltip": null,
            "_model_module": "@jupyter-widgets/controls",
            "layout": "IPY_MODEL_a34cb0931850452a8e9258c297db6b6d"
          }
        },
        "d61eebbe8aa44446853da6fa2d2745c9": {
          "model_module": "@jupyter-widgets/controls",
          "model_name": "ProgressStyleModel",
          "state": {
            "_view_name": "StyleView",
            "_model_name": "ProgressStyleModel",
            "description_width": "initial",
            "_view_module": "@jupyter-widgets/base",
            "_model_module_version": "1.5.0",
            "_view_count": null,
            "_view_module_version": "1.2.0",
            "bar_color": null,
            "_model_module": "@jupyter-widgets/controls"
          }
        },
        "051d3ea3bdca4bcf94f5018b6838c1c7": {
          "model_module": "@jupyter-widgets/base",
          "model_name": "LayoutModel",
          "state": {
            "_view_name": "LayoutView",
            "grid_template_rows": null,
            "right": null,
            "justify_content": null,
            "_view_module": "@jupyter-widgets/base",
            "overflow": null,
            "_model_module_version": "1.2.0",
            "_view_count": null,
            "flex_flow": null,
            "width": null,
            "min_width": null,
            "border": null,
            "align_items": null,
            "bottom": null,
            "_model_module": "@jupyter-widgets/base",
            "top": null,
            "grid_column": null,
            "overflow_y": null,
            "overflow_x": null,
            "grid_auto_flow": null,
            "grid_area": null,
            "grid_template_columns": null,
            "flex": null,
            "_model_name": "LayoutModel",
            "justify_items": null,
            "grid_row": null,
            "max_height": null,
            "align_content": null,
            "visibility": null,
            "align_self": null,
            "height": null,
            "min_height": null,
            "padding": null,
            "grid_auto_rows": null,
            "grid_gap": null,
            "max_width": null,
            "order": null,
            "_view_module_version": "1.2.0",
            "grid_template_areas": null,
            "object_position": null,
            "object_fit": null,
            "grid_auto_columns": null,
            "margin": null,
            "display": null,
            "left": null
          }
        },
        "1cdb52fb5e7a4b2480ed825dc5ed4a04": {
          "model_module": "@jupyter-widgets/controls",
          "model_name": "DescriptionStyleModel",
          "state": {
            "_view_name": "StyleView",
            "_model_name": "DescriptionStyleModel",
            "description_width": "",
            "_view_module": "@jupyter-widgets/base",
            "_model_module_version": "1.5.0",
            "_view_count": null,
            "_view_module_version": "1.2.0",
            "_model_module": "@jupyter-widgets/controls"
          }
        },
        "a34cb0931850452a8e9258c297db6b6d": {
          "model_module": "@jupyter-widgets/base",
          "model_name": "LayoutModel",
          "state": {
            "_view_name": "LayoutView",
            "grid_template_rows": null,
            "right": null,
            "justify_content": null,
            "_view_module": "@jupyter-widgets/base",
            "overflow": null,
            "_model_module_version": "1.2.0",
            "_view_count": null,
            "flex_flow": null,
            "width": null,
            "min_width": null,
            "border": null,
            "align_items": null,
            "bottom": null,
            "_model_module": "@jupyter-widgets/base",
            "top": null,
            "grid_column": null,
            "overflow_y": null,
            "overflow_x": null,
            "grid_auto_flow": null,
            "grid_area": null,
            "grid_template_columns": null,
            "flex": null,
            "_model_name": "LayoutModel",
            "justify_items": null,
            "grid_row": null,
            "max_height": null,
            "align_content": null,
            "visibility": null,
            "align_self": null,
            "height": null,
            "min_height": null,
            "padding": null,
            "grid_auto_rows": null,
            "grid_gap": null,
            "max_width": null,
            "order": null,
            "_view_module_version": "1.2.0",
            "grid_template_areas": null,
            "object_position": null,
            "object_fit": null,
            "grid_auto_columns": null,
            "margin": null,
            "display": null,
            "left": null
          }
        },
        "a722aa52c5d04b41adf9043361d68045": {
          "model_module": "@jupyter-widgets/controls",
          "model_name": "HBoxModel",
          "state": {
            "_view_name": "HBoxView",
            "_dom_classes": [],
            "_model_name": "HBoxModel",
            "_view_module": "@jupyter-widgets/controls",
            "_model_module_version": "1.5.0",
            "_view_count": null,
            "_view_module_version": "1.5.0",
            "box_style": "",
            "layout": "IPY_MODEL_7dacd5df1ab847d6ae1dee6408ac7a5b",
            "_model_module": "@jupyter-widgets/controls",
            "children": [
              "IPY_MODEL_df5bead04cc84c91869d47de825f0bd1",
              "IPY_MODEL_8dd2b857cd1842fc8830a06aca92825c"
            ]
          }
        },
        "7dacd5df1ab847d6ae1dee6408ac7a5b": {
          "model_module": "@jupyter-widgets/base",
          "model_name": "LayoutModel",
          "state": {
            "_view_name": "LayoutView",
            "grid_template_rows": null,
            "right": null,
            "justify_content": null,
            "_view_module": "@jupyter-widgets/base",
            "overflow": null,
            "_model_module_version": "1.2.0",
            "_view_count": null,
            "flex_flow": null,
            "width": null,
            "min_width": null,
            "border": null,
            "align_items": null,
            "bottom": null,
            "_model_module": "@jupyter-widgets/base",
            "top": null,
            "grid_column": null,
            "overflow_y": null,
            "overflow_x": null,
            "grid_auto_flow": null,
            "grid_area": null,
            "grid_template_columns": null,
            "flex": null,
            "_model_name": "LayoutModel",
            "justify_items": null,
            "grid_row": null,
            "max_height": null,
            "align_content": null,
            "visibility": null,
            "align_self": null,
            "height": null,
            "min_height": null,
            "padding": null,
            "grid_auto_rows": null,
            "grid_gap": null,
            "max_width": null,
            "order": null,
            "_view_module_version": "1.2.0",
            "grid_template_areas": null,
            "object_position": null,
            "object_fit": null,
            "grid_auto_columns": null,
            "margin": null,
            "display": null,
            "left": null
          }
        },
        "df5bead04cc84c91869d47de825f0bd1": {
          "model_module": "@jupyter-widgets/controls",
          "model_name": "FloatProgressModel",
          "state": {
            "_view_name": "ProgressView",
            "style": "IPY_MODEL_75f739dd40ac4c98977fde6fea59146c",
            "_dom_classes": [],
            "description": "Downloading: 100%",
            "_model_name": "FloatProgressModel",
            "bar_style": "success",
            "max": 43,
            "_view_module": "@jupyter-widgets/controls",
            "_model_module_version": "1.5.0",
            "value": 43,
            "_view_count": null,
            "_view_module_version": "1.5.0",
            "orientation": "horizontal",
            "min": 0,
            "description_tooltip": null,
            "_model_module": "@jupyter-widgets/controls",
            "layout": "IPY_MODEL_5f05460a2c024480ac1cf8bac4f5738e"
          }
        },
        "8dd2b857cd1842fc8830a06aca92825c": {
          "model_module": "@jupyter-widgets/controls",
          "model_name": "HTMLModel",
          "state": {
            "_view_name": "HTMLView",
            "style": "IPY_MODEL_eeb45e2bf50245e7b1f9cc017f79c54f",
            "_dom_classes": [],
            "description": "",
            "_model_name": "HTMLModel",
            "placeholder": "​",
            "_view_module": "@jupyter-widgets/controls",
            "_model_module_version": "1.5.0",
            "value": " 43.0/43.0 [00:00&lt;00:00, 233B/s]",
            "_view_count": null,
            "_view_module_version": "1.5.0",
            "description_tooltip": null,
            "_model_module": "@jupyter-widgets/controls",
            "layout": "IPY_MODEL_8d89d531168a44aeb0ca02333653621a"
          }
        },
        "75f739dd40ac4c98977fde6fea59146c": {
          "model_module": "@jupyter-widgets/controls",
          "model_name": "ProgressStyleModel",
          "state": {
            "_view_name": "StyleView",
            "_model_name": "ProgressStyleModel",
            "description_width": "initial",
            "_view_module": "@jupyter-widgets/base",
            "_model_module_version": "1.5.0",
            "_view_count": null,
            "_view_module_version": "1.2.0",
            "bar_color": null,
            "_model_module": "@jupyter-widgets/controls"
          }
        },
        "5f05460a2c024480ac1cf8bac4f5738e": {
          "model_module": "@jupyter-widgets/base",
          "model_name": "LayoutModel",
          "state": {
            "_view_name": "LayoutView",
            "grid_template_rows": null,
            "right": null,
            "justify_content": null,
            "_view_module": "@jupyter-widgets/base",
            "overflow": null,
            "_model_module_version": "1.2.0",
            "_view_count": null,
            "flex_flow": null,
            "width": null,
            "min_width": null,
            "border": null,
            "align_items": null,
            "bottom": null,
            "_model_module": "@jupyter-widgets/base",
            "top": null,
            "grid_column": null,
            "overflow_y": null,
            "overflow_x": null,
            "grid_auto_flow": null,
            "grid_area": null,
            "grid_template_columns": null,
            "flex": null,
            "_model_name": "LayoutModel",
            "justify_items": null,
            "grid_row": null,
            "max_height": null,
            "align_content": null,
            "visibility": null,
            "align_self": null,
            "height": null,
            "min_height": null,
            "padding": null,
            "grid_auto_rows": null,
            "grid_gap": null,
            "max_width": null,
            "order": null,
            "_view_module_version": "1.2.0",
            "grid_template_areas": null,
            "object_position": null,
            "object_fit": null,
            "grid_auto_columns": null,
            "margin": null,
            "display": null,
            "left": null
          }
        },
        "eeb45e2bf50245e7b1f9cc017f79c54f": {
          "model_module": "@jupyter-widgets/controls",
          "model_name": "DescriptionStyleModel",
          "state": {
            "_view_name": "StyleView",
            "_model_name": "DescriptionStyleModel",
            "description_width": "",
            "_view_module": "@jupyter-widgets/base",
            "_model_module_version": "1.5.0",
            "_view_count": null,
            "_view_module_version": "1.2.0",
            "_model_module": "@jupyter-widgets/controls"
          }
        },
        "8d89d531168a44aeb0ca02333653621a": {
          "model_module": "@jupyter-widgets/base",
          "model_name": "LayoutModel",
          "state": {
            "_view_name": "LayoutView",
            "grid_template_rows": null,
            "right": null,
            "justify_content": null,
            "_view_module": "@jupyter-widgets/base",
            "overflow": null,
            "_model_module_version": "1.2.0",
            "_view_count": null,
            "flex_flow": null,
            "width": null,
            "min_width": null,
            "border": null,
            "align_items": null,
            "bottom": null,
            "_model_module": "@jupyter-widgets/base",
            "top": null,
            "grid_column": null,
            "overflow_y": null,
            "overflow_x": null,
            "grid_auto_flow": null,
            "grid_area": null,
            "grid_template_columns": null,
            "flex": null,
            "_model_name": "LayoutModel",
            "justify_items": null,
            "grid_row": null,
            "max_height": null,
            "align_content": null,
            "visibility": null,
            "align_self": null,
            "height": null,
            "min_height": null,
            "padding": null,
            "grid_auto_rows": null,
            "grid_gap": null,
            "max_width": null,
            "order": null,
            "_view_module_version": "1.2.0",
            "grid_template_areas": null,
            "object_position": null,
            "object_fit": null,
            "grid_auto_columns": null,
            "margin": null,
            "display": null,
            "left": null
          }
        }
      }
    }
  },
  "cells": [
    {
      "cell_type": "markdown",
      "metadata": {
        "id": "p7oXA7S8O5tf",
        "colab_type": "text"
      },
      "source": [
        "# Santander Questions Classification Using:\n",
        "### A Bidirectional Encoder Representations from Transformers (BERT) Model\n",
        "> Author: Jefferson Licet\n",
        "\n",
        "> Email: jeffersonlicet@gmail.com"
      ]
    },
    {
      "cell_type": "code",
      "metadata": {
        "id": "it8o1G4agf6a",
        "colab_type": "code",
        "colab": {
          "base_uri": "https://localhost:8080/",
          "height": 52
        },
        "outputId": "ea471858-2e02-47b9-ba7c-8d3950c22ca9"
      },
      "source": [
        "gpu_info = !nvidia-smi\n",
        "gpu_info = '\\n'.join(gpu_info)\n",
        "if gpu_info.find('failed') >= 0:\n",
        "  print('Select the Runtime > \"Change runtime type\" menu to enable a GPU accelerator, ')\n",
        "  print('and then re-execute this cell.')\n",
        "else:\n",
        "  print(gpu_info)"
      ],
      "execution_count": 1,
      "outputs": [
        {
          "output_type": "stream",
          "text": [
            "Select the Runtime > \"Change runtime type\" menu to enable a GPU accelerator, \n",
            "and then re-execute this cell.\n"
          ],
          "name": "stdout"
        }
      ]
    },
    {
      "cell_type": "code",
      "metadata": {
        "id": "yJpwnYmwPYi4",
        "colab_type": "code",
        "colab": {
          "base_uri": "https://localhost:8080/",
          "height": 641
        },
        "outputId": "ac871a3e-ec32-497e-b05f-65248e1307af"
      },
      "source": [
        "!pip install transformers"
      ],
      "execution_count": 2,
      "outputs": [
        {
          "output_type": "stream",
          "text": [
            "Collecting transformers\n",
            "\u001b[?25l  Downloading https://files.pythonhosted.org/packages/27/3c/91ed8f5c4e7ef3227b4119200fc0ed4b4fd965b1f0172021c25701087825/transformers-3.0.2-py3-none-any.whl (769kB)\n",
            "\u001b[K     |████████████████████████████████| 778kB 2.1MB/s \n",
            "\u001b[?25hRequirement already satisfied: tqdm>=4.27 in /usr/local/lib/python3.6/dist-packages (from transformers) (4.41.1)\n",
            "Collecting sentencepiece!=0.1.92\n",
            "\u001b[?25l  Downloading https://files.pythonhosted.org/packages/d4/a4/d0a884c4300004a78cca907a6ff9a5e9fe4f090f5d95ab341c53d28cbc58/sentencepiece-0.1.91-cp36-cp36m-manylinux1_x86_64.whl (1.1MB)\n",
            "\u001b[K     |████████████████████████████████| 1.1MB 7.8MB/s \n",
            "\u001b[?25hRequirement already satisfied: packaging in /usr/local/lib/python3.6/dist-packages (from transformers) (20.4)\n",
            "Collecting sacremoses\n",
            "\u001b[?25l  Downloading https://files.pythonhosted.org/packages/7d/34/09d19aff26edcc8eb2a01bed8e98f13a1537005d31e95233fd48216eed10/sacremoses-0.0.43.tar.gz (883kB)\n",
            "\u001b[K     |████████████████████████████████| 890kB 16.6MB/s \n",
            "\u001b[?25hRequirement already satisfied: filelock in /usr/local/lib/python3.6/dist-packages (from transformers) (3.0.12)\n",
            "Requirement already satisfied: regex!=2019.12.17 in /usr/local/lib/python3.6/dist-packages (from transformers) (2019.12.20)\n",
            "Requirement already satisfied: numpy in /usr/local/lib/python3.6/dist-packages (from transformers) (1.18.5)\n",
            "Requirement already satisfied: requests in /usr/local/lib/python3.6/dist-packages (from transformers) (2.23.0)\n",
            "Requirement already satisfied: dataclasses; python_version < \"3.7\" in /usr/local/lib/python3.6/dist-packages (from transformers) (0.7)\n",
            "Collecting tokenizers==0.8.1.rc1\n",
            "\u001b[?25l  Downloading https://files.pythonhosted.org/packages/40/d0/30d5f8d221a0ed981a186c8eb986ce1c94e3a6e87f994eae9f4aa5250217/tokenizers-0.8.1rc1-cp36-cp36m-manylinux1_x86_64.whl (3.0MB)\n",
            "\u001b[K     |████████████████████████████████| 3.0MB 16.0MB/s \n",
            "\u001b[?25hRequirement already satisfied: pyparsing>=2.0.2 in /usr/local/lib/python3.6/dist-packages (from packaging->transformers) (2.4.7)\n",
            "Requirement already satisfied: six in /usr/local/lib/python3.6/dist-packages (from packaging->transformers) (1.12.0)\n",
            "Requirement already satisfied: click in /usr/local/lib/python3.6/dist-packages (from sacremoses->transformers) (7.1.2)\n",
            "Requirement already satisfied: joblib in /usr/local/lib/python3.6/dist-packages (from sacremoses->transformers) (0.16.0)\n",
            "Requirement already satisfied: chardet<4,>=3.0.2 in /usr/local/lib/python3.6/dist-packages (from requests->transformers) (3.0.4)\n",
            "Requirement already satisfied: certifi>=2017.4.17 in /usr/local/lib/python3.6/dist-packages (from requests->transformers) (2020.6.20)\n",
            "Requirement already satisfied: idna<3,>=2.5 in /usr/local/lib/python3.6/dist-packages (from requests->transformers) (2.10)\n",
            "Requirement already satisfied: urllib3!=1.25.0,!=1.25.1,<1.26,>=1.21.1 in /usr/local/lib/python3.6/dist-packages (from requests->transformers) (1.24.3)\n",
            "Building wheels for collected packages: sacremoses\n",
            "  Building wheel for sacremoses (setup.py) ... \u001b[?25l\u001b[?25hdone\n",
            "  Created wheel for sacremoses: filename=sacremoses-0.0.43-cp36-none-any.whl size=893260 sha256=3d9e041e427af1c14e6574031d0f501fd18e9fa72e045a000d7f61d90b9b551a\n",
            "  Stored in directory: /root/.cache/pip/wheels/29/3c/fd/7ce5c3f0666dab31a50123635e6fb5e19ceb42ce38d4e58f45\n",
            "Successfully built sacremoses\n",
            "Installing collected packages: sentencepiece, sacremoses, tokenizers, transformers\n",
            "Successfully installed sacremoses-0.0.43 sentencepiece-0.1.91 tokenizers-0.8.1rc1 transformers-3.0.2\n"
          ],
          "name": "stdout"
        }
      ]
    },
    {
      "cell_type": "code",
      "metadata": {
        "_uuid": "8f2839f25d086af736a60e9eeb907d3b93b6e0e5",
        "_cell_guid": "b1076dfc-b9ad-4769-8c92-a6c4dae69d19",
        "trusted": true,
        "id": "-kGaguqTO5ti",
        "colab_type": "code",
        "colab": {}
      },
      "source": [
        "import os\n",
        "import gc\n",
        "import random as rn\n",
        "import numpy as np\n",
        "import pandas as pd\n",
        "import transformers\n",
        "import tensorflow as tf\n",
        "from tqdm.notebook import tqdm\n",
        "\n",
        "# Define constants\n",
        "\n",
        "SEED_NUMBER = 44 # Magic number\n",
        "CACHE_PATH = '/cache' # Cache folder\n",
        "BERT_MODEL = 'dccuchile/bert-base-spanish-wwm-cased' # Beto - Spanish Bert model\n",
        "\n",
        "# Seed random numbers, only words with CPU/GPU\n",
        "rn.seed(SEED_NUMBER)\n",
        "np.random.seed(SEED_NUMBER)\n",
        "tf.random.set_seed(SEED_NUMBER)\n",
        "os.environ['PYTHONHASHSEED'] = '0'\n",
        "\n",
        "# When using a pool of TPUS random functions can't use SEED"
      ],
      "execution_count": 3,
      "outputs": []
    },
    {
      "cell_type": "code",
      "metadata": {
        "id": "hamMESdSPzHU",
        "colab_type": "code",
        "colab": {
          "base_uri": "https://localhost:8080/",
          "height": 745
        },
        "outputId": "0781f0b7-7222-458f-fb08-1603d00d2ac7"
      },
      "source": [
        "# Enable TPUStrategy\n",
        "\n",
        "AUTO = tf.data.experimental.AUTOTUNE\n",
        "tpu = tf.distribute.cluster_resolver.TPUClusterResolver()\n",
        "tf.config.experimental_connect_to_cluster(tpu)\n",
        "tf.tpu.experimental.initialize_tpu_system(tpu)\n",
        "strategy = tf.distribute.experimental.TPUStrategy(tpu)\n",
        "\n",
        "# Register pandas progress bar using tqdm\n",
        "tqdm.pandas()"
      ],
      "execution_count": 4,
      "outputs": [
        {
          "output_type": "stream",
          "text": [
            "INFO:absl:Entering into master device scope: /job:worker/replica:0/task:0/device:CPU:0\n"
          ],
          "name": "stderr"
        },
        {
          "output_type": "stream",
          "text": [
            "INFO:tensorflow:Initializing the TPU system: grpc://10.14.42.210:8470\n"
          ],
          "name": "stdout"
        },
        {
          "output_type": "stream",
          "text": [
            "INFO:tensorflow:Initializing the TPU system: grpc://10.14.42.210:8470\n"
          ],
          "name": "stderr"
        },
        {
          "output_type": "stream",
          "text": [
            "INFO:tensorflow:Clearing out eager caches\n"
          ],
          "name": "stdout"
        },
        {
          "output_type": "stream",
          "text": [
            "INFO:tensorflow:Clearing out eager caches\n"
          ],
          "name": "stderr"
        },
        {
          "output_type": "stream",
          "text": [
            "INFO:tensorflow:Finished initializing TPU system.\n"
          ],
          "name": "stdout"
        },
        {
          "output_type": "stream",
          "text": [
            "INFO:tensorflow:Finished initializing TPU system.\n"
          ],
          "name": "stderr"
        },
        {
          "output_type": "stream",
          "text": [
            "INFO:tensorflow:Found TPU system:\n"
          ],
          "name": "stdout"
        },
        {
          "output_type": "stream",
          "text": [
            "INFO:tensorflow:Found TPU system:\n"
          ],
          "name": "stderr"
        },
        {
          "output_type": "stream",
          "text": [
            "INFO:tensorflow:*** Num TPU Cores: 8\n"
          ],
          "name": "stdout"
        },
        {
          "output_type": "stream",
          "text": [
            "INFO:tensorflow:*** Num TPU Cores: 8\n"
          ],
          "name": "stderr"
        },
        {
          "output_type": "stream",
          "text": [
            "INFO:tensorflow:*** Num TPU Workers: 1\n"
          ],
          "name": "stdout"
        },
        {
          "output_type": "stream",
          "text": [
            "INFO:tensorflow:*** Num TPU Workers: 1\n"
          ],
          "name": "stderr"
        },
        {
          "output_type": "stream",
          "text": [
            "INFO:tensorflow:*** Num TPU Cores Per Worker: 8\n"
          ],
          "name": "stdout"
        },
        {
          "output_type": "stream",
          "text": [
            "INFO:tensorflow:*** Num TPU Cores Per Worker: 8\n"
          ],
          "name": "stderr"
        },
        {
          "output_type": "stream",
          "text": [
            "INFO:tensorflow:*** Available Device: _DeviceAttributes(/job:localhost/replica:0/task:0/device:CPU:0, CPU, 0, 0)\n"
          ],
          "name": "stdout"
        },
        {
          "output_type": "stream",
          "text": [
            "INFO:tensorflow:*** Available Device: _DeviceAttributes(/job:localhost/replica:0/task:0/device:CPU:0, CPU, 0, 0)\n"
          ],
          "name": "stderr"
        },
        {
          "output_type": "stream",
          "text": [
            "INFO:tensorflow:*** Available Device: _DeviceAttributes(/job:localhost/replica:0/task:0/device:XLA_CPU:0, XLA_CPU, 0, 0)\n"
          ],
          "name": "stdout"
        },
        {
          "output_type": "stream",
          "text": [
            "INFO:tensorflow:*** Available Device: _DeviceAttributes(/job:localhost/replica:0/task:0/device:XLA_CPU:0, XLA_CPU, 0, 0)\n"
          ],
          "name": "stderr"
        },
        {
          "output_type": "stream",
          "text": [
            "INFO:tensorflow:*** Available Device: _DeviceAttributes(/job:worker/replica:0/task:0/device:CPU:0, CPU, 0, 0)\n"
          ],
          "name": "stdout"
        },
        {
          "output_type": "stream",
          "text": [
            "INFO:tensorflow:*** Available Device: _DeviceAttributes(/job:worker/replica:0/task:0/device:CPU:0, CPU, 0, 0)\n"
          ],
          "name": "stderr"
        },
        {
          "output_type": "stream",
          "text": [
            "INFO:tensorflow:*** Available Device: _DeviceAttributes(/job:worker/replica:0/task:0/device:TPU:0, TPU, 0, 0)\n"
          ],
          "name": "stdout"
        },
        {
          "output_type": "stream",
          "text": [
            "INFO:tensorflow:*** Available Device: _DeviceAttributes(/job:worker/replica:0/task:0/device:TPU:0, TPU, 0, 0)\n"
          ],
          "name": "stderr"
        },
        {
          "output_type": "stream",
          "text": [
            "INFO:tensorflow:*** Available Device: _DeviceAttributes(/job:worker/replica:0/task:0/device:TPU:1, TPU, 0, 0)\n"
          ],
          "name": "stdout"
        },
        {
          "output_type": "stream",
          "text": [
            "INFO:tensorflow:*** Available Device: _DeviceAttributes(/job:worker/replica:0/task:0/device:TPU:1, TPU, 0, 0)\n"
          ],
          "name": "stderr"
        },
        {
          "output_type": "stream",
          "text": [
            "INFO:tensorflow:*** Available Device: _DeviceAttributes(/job:worker/replica:0/task:0/device:TPU:2, TPU, 0, 0)\n"
          ],
          "name": "stdout"
        },
        {
          "output_type": "stream",
          "text": [
            "INFO:tensorflow:*** Available Device: _DeviceAttributes(/job:worker/replica:0/task:0/device:TPU:2, TPU, 0, 0)\n"
          ],
          "name": "stderr"
        },
        {
          "output_type": "stream",
          "text": [
            "INFO:tensorflow:*** Available Device: _DeviceAttributes(/job:worker/replica:0/task:0/device:TPU:3, TPU, 0, 0)\n"
          ],
          "name": "stdout"
        },
        {
          "output_type": "stream",
          "text": [
            "INFO:tensorflow:*** Available Device: _DeviceAttributes(/job:worker/replica:0/task:0/device:TPU:3, TPU, 0, 0)\n"
          ],
          "name": "stderr"
        },
        {
          "output_type": "stream",
          "text": [
            "INFO:tensorflow:*** Available Device: _DeviceAttributes(/job:worker/replica:0/task:0/device:TPU:4, TPU, 0, 0)\n"
          ],
          "name": "stdout"
        },
        {
          "output_type": "stream",
          "text": [
            "INFO:tensorflow:*** Available Device: _DeviceAttributes(/job:worker/replica:0/task:0/device:TPU:4, TPU, 0, 0)\n"
          ],
          "name": "stderr"
        },
        {
          "output_type": "stream",
          "text": [
            "INFO:tensorflow:*** Available Device: _DeviceAttributes(/job:worker/replica:0/task:0/device:TPU:5, TPU, 0, 0)\n"
          ],
          "name": "stdout"
        },
        {
          "output_type": "stream",
          "text": [
            "INFO:tensorflow:*** Available Device: _DeviceAttributes(/job:worker/replica:0/task:0/device:TPU:5, TPU, 0, 0)\n"
          ],
          "name": "stderr"
        },
        {
          "output_type": "stream",
          "text": [
            "INFO:tensorflow:*** Available Device: _DeviceAttributes(/job:worker/replica:0/task:0/device:TPU:6, TPU, 0, 0)\n"
          ],
          "name": "stdout"
        },
        {
          "output_type": "stream",
          "text": [
            "INFO:tensorflow:*** Available Device: _DeviceAttributes(/job:worker/replica:0/task:0/device:TPU:6, TPU, 0, 0)\n"
          ],
          "name": "stderr"
        },
        {
          "output_type": "stream",
          "text": [
            "INFO:tensorflow:*** Available Device: _DeviceAttributes(/job:worker/replica:0/task:0/device:TPU:7, TPU, 0, 0)\n"
          ],
          "name": "stdout"
        },
        {
          "output_type": "stream",
          "text": [
            "INFO:tensorflow:*** Available Device: _DeviceAttributes(/job:worker/replica:0/task:0/device:TPU:7, TPU, 0, 0)\n"
          ],
          "name": "stderr"
        },
        {
          "output_type": "stream",
          "text": [
            "INFO:tensorflow:*** Available Device: _DeviceAttributes(/job:worker/replica:0/task:0/device:TPU_SYSTEM:0, TPU_SYSTEM, 0, 0)\n"
          ],
          "name": "stdout"
        },
        {
          "output_type": "stream",
          "text": [
            "INFO:tensorflow:*** Available Device: _DeviceAttributes(/job:worker/replica:0/task:0/device:TPU_SYSTEM:0, TPU_SYSTEM, 0, 0)\n"
          ],
          "name": "stderr"
        },
        {
          "output_type": "stream",
          "text": [
            "INFO:tensorflow:*** Available Device: _DeviceAttributes(/job:worker/replica:0/task:0/device:XLA_CPU:0, XLA_CPU, 0, 0)\n"
          ],
          "name": "stdout"
        },
        {
          "output_type": "stream",
          "text": [
            "INFO:tensorflow:*** Available Device: _DeviceAttributes(/job:worker/replica:0/task:0/device:XLA_CPU:0, XLA_CPU, 0, 0)\n"
          ],
          "name": "stderr"
        }
      ]
    },
    {
      "cell_type": "code",
      "metadata": {
        "trusted": true,
        "id": "0uL0EUBBO5tp",
        "colab_type": "code",
        "colab": {
          "base_uri": "https://localhost:8080/",
          "height": 215,
          "referenced_widgets": [
            "3d93c795723e4e888a785efc6774b37b",
            "5f521387b10e40eab132c93d69e0405c",
            "ebed3e095c0c423e937ed3cc2892d77d",
            "8d662b32cf4c46f991ed3a478be995f4",
            "2c41bb025f5841118be0dbcee76ee273",
            "0612f0b562b546ed97828fa404e212d8",
            "be7c38b4ff6c466c87ce1d7172ae4276",
            "bb0c6f9e4f114417972173b13b7daa5e",
            "1fcdf3efd40a48cfb7f94fde52158e9b",
            "723f0e8a681448a8b3568f05333e549c",
            "cac83397242d44ce95400cd276f3a0d3",
            "6b005e5d9b754e8882f7846db20928dd",
            "bf9124f7e99f4cfa94d2f40039d04927",
            "bd93d44bbb8445889fbdb5ad21834ea3",
            "821ca18d9b964057b3214e64361c3372",
            "1c9f3b7e2bec4813bb1f364247a0133c",
            "c3d02870e3054574b875b9c2bf62874c",
            "da11be840dda42b997f50415f31c787c",
            "9398691f6e7c488ab5ad1ffc6ec71a42",
            "82d0980002d54bf6aebf283158aa15b3",
            "d61eebbe8aa44446853da6fa2d2745c9",
            "051d3ea3bdca4bcf94f5018b6838c1c7",
            "1cdb52fb5e7a4b2480ed825dc5ed4a04",
            "a34cb0931850452a8e9258c297db6b6d",
            "a722aa52c5d04b41adf9043361d68045",
            "7dacd5df1ab847d6ae1dee6408ac7a5b",
            "df5bead04cc84c91869d47de825f0bd1",
            "8dd2b857cd1842fc8830a06aca92825c",
            "75f739dd40ac4c98977fde6fea59146c",
            "5f05460a2c024480ac1cf8bac4f5738e",
            "eeb45e2bf50245e7b1f9cc017f79c54f",
            "8d89d531168a44aeb0ca02333653621a"
          ]
        },
        "outputId": "752e5136-14c1-418d-bbb0-ba5b5ae182cb"
      },
      "source": [
        "from tokenizers import BertWordPieceTokenizer\n",
        "\n",
        "tokenizer = transformers.BertTokenizer.from_pretrained(BERT_MODEL)\n",
        "\n",
        "def generateBertPath(bert_model):\n",
        "  return os.path.join(CACHE_PATH, bert_model + '-cache')\n",
        "\n",
        "save_vocab_path = generateBertPath(BERT_MODEL)\n",
        "vocab_file_path = os.path.join(save_vocab_path, 'vocab.txt')\n",
        "\n",
        "if not os.path.exists(save_vocab_path):\n",
        "    os.makedirs(save_vocab_path)\n",
        "\n",
        "tokenizer.save_pretrained(save_vocab_path)\n",
        "\n",
        "# Initialize BERT tokenizer\n",
        "fast_tokenizer = BertWordPieceTokenizer(\n",
        "    vocab_file_path,\n",
        "    lowercase=True,\n",
        "    strip_accents=True\n",
        ")"
      ],
      "execution_count": 5,
      "outputs": [
        {
          "output_type": "display_data",
          "data": {
            "application/vnd.jupyter.widget-view+json": {
              "model_id": "3d93c795723e4e888a785efc6774b37b",
              "version_minor": 0,
              "version_major": 2
            },
            "text/plain": [
              "HBox(children=(FloatProgress(value=0.0, description='Downloading', max=242120.0, style=ProgressStyle(descripti…"
            ]
          },
          "metadata": {
            "tags": []
          }
        },
        {
          "output_type": "stream",
          "text": [
            "\n"
          ],
          "name": "stdout"
        },
        {
          "output_type": "display_data",
          "data": {
            "application/vnd.jupyter.widget-view+json": {
              "model_id": "1fcdf3efd40a48cfb7f94fde52158e9b",
              "version_minor": 0,
              "version_major": 2
            },
            "text/plain": [
              "HBox(children=(FloatProgress(value=0.0, description='Downloading', max=2.0, style=ProgressStyle(description_wi…"
            ]
          },
          "metadata": {
            "tags": []
          }
        },
        {
          "output_type": "stream",
          "text": [
            "\n"
          ],
          "name": "stdout"
        },
        {
          "output_type": "display_data",
          "data": {
            "application/vnd.jupyter.widget-view+json": {
              "model_id": "c3d02870e3054574b875b9c2bf62874c",
              "version_minor": 0,
              "version_major": 2
            },
            "text/plain": [
              "HBox(children=(FloatProgress(value=0.0, description='Downloading', max=112.0, style=ProgressStyle(description_…"
            ]
          },
          "metadata": {
            "tags": []
          }
        },
        {
          "output_type": "stream",
          "text": [
            "\n"
          ],
          "name": "stdout"
        },
        {
          "output_type": "display_data",
          "data": {
            "application/vnd.jupyter.widget-view+json": {
              "model_id": "a722aa52c5d04b41adf9043361d68045",
              "version_minor": 0,
              "version_major": 2
            },
            "text/plain": [
              "HBox(children=(FloatProgress(value=0.0, description='Downloading', max=43.0, style=ProgressStyle(description_w…"
            ]
          },
          "metadata": {
            "tags": []
          }
        },
        {
          "output_type": "stream",
          "text": [
            "\n"
          ],
          "name": "stdout"
        }
      ]
    },
    {
      "cell_type": "code",
      "metadata": {
        "_uuid": "d629ff2d2480ee46fbb7e2d37f6b5fab8052498a",
        "_cell_guid": "79c7e3d0-c299-4dcb-8224-4455121ee9b0",
        "trusted": true,
        "id": "TIlGZYgUO5tu",
        "colab_type": "code",
        "colab": {}
      },
      "source": [
        "\"\"\"\n",
        "  Tokenizes an array of texts using BERT tokenizer\n",
        "  returns an array of arrays containing ids of the vocab\n",
        "\"\"\"\n",
        "def tokenizeAndEncode(texts, tokenizer, chunk_size=256, maxlen=512):\n",
        "    tokenizer.enable_truncation(max_length=maxlen)\n",
        "    tokenizer.enable_padding()\n",
        "\n",
        "    bert_ids = []\n",
        "    \n",
        "    encs = tokenizer.encode_batch(texts)\n",
        "    bert_ids.extend([enc.ids for enc in encs])\n",
        "        \n",
        "    return np.array(bert_ids)"
      ],
      "execution_count": 6,
      "outputs": []
    },
    {
      "cell_type": "code",
      "metadata": {
        "id": "UJK_H-hDhTP7",
        "colab_type": "code",
        "colab": {}
      },
      "source": [
        "# Descargarmos el dataset desde el drive de la competencia\n",
        "!wget -q -O train.csv https://drive.google.com/u/0/uc?id=1SvVbsYUpKphC3NuU4y7JDYsDJxYT61Yl&export=download\n",
        "!wget -q -O test_santander.csv https://drive.google.com/u/0/uc?id=1bsV_URfRHy8LNLA1SKJ24hv0lRNVXMV4&export=download"
      ],
      "execution_count": 7,
      "outputs": []
    },
    {
      "cell_type": "code",
      "metadata": {
        "trusted": true,
        "id": "HNWFjRFgO5t5",
        "colab_type": "code",
        "colab": {
          "base_uri": "https://localhost:8080/",
          "height": 425
        },
        "outputId": "235ef7b5-7855-42bf-92d7-0b3205d8caec"
      },
      "source": [
        "# Load train and test data\n",
        "\n",
        "DATA_PATH = ''\n",
        "TRAIN_CSV_DIR = os.path.join(DATA_PATH, 'train.csv')\n",
        "TEST_CSV_DIR = os.path.join(DATA_PATH, 'test_santander.csv')\n",
        "\n",
        "train_data = pd.read_csv(TRAIN_CSV_DIR, sep='|')\n",
        "\n",
        "# Append samples for less populated category\n",
        "appendQuestions = [\n",
        " \"correo electrónico inválido\",\n",
        " \"correo electrónico incorrecto\",\n",
        " \"el correo electronico es incorrecto\",\n",
        " \"el correo electronico no es correcto\",\n",
        "]\n",
        "\n",
        "appendCategories = [\"Cat_104\", \"Cat_104\", \"Cat_104\", \"Cat_104\"]\n",
        "\n",
        "df_concat = pd.DataFrame({'Pregunta': appendQuestions, 'Intencion': appendCategories })\n",
        "train_data = pd.concat([train_data, df_concat], ignore_index=True)\n",
        "\n",
        "print(train_data.tail(10))\n",
        "\n",
        "test_data = pd.read_csv(TEST_CSV_DIR)\n",
        "\n",
        "train_data['labels'], labels = pd.factorize(train_data.Intencion)\n",
        "np.save('labels.npy', labels)\n",
        "\n",
        "# Assert prints train data\n",
        "print(train_data.head())\n",
        "\n",
        "# Assert prints test data\n",
        "print(test_data.head())"
      ],
      "execution_count": 8,
      "outputs": [
        {
          "output_type": "stream",
          "text": [
            "                                                Pregunta Intencion\n",
            "20098            estoy necesitando una tarjeta de debito    Cat_39\n",
            "20099   el monto del prestamo depende de los ingresos???   Cat_251\n",
            "20100       quiero cancelar una compra puntual el cuotas   Cat_339\n",
            "20101                               necesito pagar deuda   Cat_192\n",
            "20102  teniendo otro hipotecario es posible aplicar p...   Cat_218\n",
            "20103                               comisión descubierto    Cat_56\n",
            "20104                        correo electrónico inválido   Cat_104\n",
            "20105                      correo electrónico incorrecto   Cat_104\n",
            "20106                el correo electronico es incorrecto   Cat_104\n",
            "20107               el correo electronico no es correcto   Cat_104\n",
            "                                            Pregunta Intencion  labels\n",
            "0               como puedo trabajar en santander rio   Cat_102       0\n",
            "1                pagar tarjeta visa querer reintegro   Cat_350       1\n",
            "2                      pagar tarjeta naranja sistema   Cat_132       2\n",
            "3  no se debitó la primera cuota del plan de bien...   Cat_129       3\n",
            "4                             abonar tarjeta credito   Cat_342       4\n",
            "   id                                           Pregunta\n",
            "0   0                    querer saber tarjeta sin limite\n",
            "1   1        ¿cuál es el límite de mi tarjeta santander?\n",
            "2   2  hay beneficios en restaurantes de la costa atl...\n",
            "3   3  semana realizar pagar afip monotributo volver ...\n",
            "4   4      por un prestamo de mil. cuanto es el interes?\n"
          ],
          "name": "stdout"
        }
      ]
    },
    {
      "cell_type": "code",
      "metadata": {
        "id": "68tMURq460EK",
        "colab_type": "code",
        "colab": {
          "base_uri": "https://localhost:8080/",
          "height": 52
        },
        "outputId": "37f58b08-c7eb-4ddf-f93e-f30bb4c2443f"
      },
      "source": [
        "# Test the tokenizer\n",
        "tokenizeAndEncode([train_data.Pregunta.values[0]], fast_tokenizer, maxlen=15)[0]"
      ],
      "execution_count": 9,
      "outputs": [
        {
          "output_type": "execute_result",
          "data": {
            "text/plain": [
              "array([    4,  1184,  1769,  3460,  1036, 18244, 30935,  1295, 25355,\n",
              "           5])"
            ]
          },
          "metadata": {
            "tags": []
          },
          "execution_count": 9
        }
      ]
    },
    {
      "cell_type": "code",
      "metadata": {
        "id": "UhiDxjxII2ZG",
        "colab_type": "code",
        "colab": {}
      },
      "source": [
        "MAX_LEN = 30"
      ],
      "execution_count": 10,
      "outputs": []
    },
    {
      "cell_type": "code",
      "metadata": {
        "trusted": true,
        "id": "i9SAVwWGO5uK",
        "colab_type": "code",
        "colab": {}
      },
      "source": [
        "# Encode test dataset\n",
        "test_data_encoded = tokenizeAndEncode(test_data.Pregunta.values, fast_tokenizer, maxlen=MAX_LEN) \n",
        "processed_test_ids = test_data.id\n",
        "\n",
        "np.save('test_ids.npy', processed_test_ids)\n",
        "test_dataset = tf.data.Dataset.from_tensor_slices(test_data_encoded).batch(64)"
      ],
      "execution_count": 11,
      "outputs": []
    },
    {
      "cell_type": "code",
      "metadata": {
        "trusted": true,
        "id": "DqZRk3WdO5t_",
        "colab_type": "code",
        "colab": {}
      },
      "source": [
        "from tensorflow.keras.layers import Input\n",
        "from tensorflow.keras.layers import Dense\n",
        "from tensorflow.keras.layers import Dropout\n",
        "from tensorflow.keras.models import Model\n",
        "\n",
        "\"\"\"\n",
        "  Creates a keras model using BERT as a Input layer\n",
        "\"\"\"\n",
        "def createModel(transformer,\n",
        "                op=None,\n",
        "                max_len=512,\n",
        "                categories=[],\n",
        "                loss='sparse_categorical_crossentropy'):\n",
        "  \n",
        "    input = Input(shape=(max_len,), dtype=tf.int32)\n",
        "    bert_output = transformer(input)[0]\n",
        "    hidden_state = bert_output[:, 0, :]\n",
        "    dropped_state = Dropout(0.35)(hidden_state)\n",
        "    output = Dense(len(categories), activation='softmax')(dropped_state)\n",
        "    \n",
        "    model = Model(inputs=input, outputs=output)\n",
        "    model.compile(op, loss=loss, metrics=['acc'])\n",
        "    \n",
        "    return model"
      ],
      "execution_count": 12,
      "outputs": []
    },
    {
      "cell_type": "code",
      "metadata": {
        "trusted": true,
        "id": "J-kPKjSxO5uC",
        "colab_type": "code",
        "colab": {}
      },
      "source": [
        "from tensorflow.keras.optimizers import Adam\n",
        "from tensorflow.keras.callbacks import EarlyStopping\n",
        "from transformers import TFBertModel\n",
        "import matplotlib.pyplot as plt\n",
        "\n",
        "\"\"\"\n",
        "  Training the model using encoded data, early stops\n",
        "  when val_acc stops increasing\n",
        "\"\"\"\n",
        "def trainModel(\n",
        "    x_train,\n",
        "    y_train,\n",
        "    x_validate,\n",
        "    y_validate,\n",
        "    class_w,\n",
        "    iteration,\n",
        "    maxLen=30,\n",
        "    epochs=75):\n",
        "    MAX_LEN = maxLen\n",
        "    categories = np.unique(train_data.labels.values)\n",
        "    optimizer = Adam(lr=3e-5) # 0.001 1e-3\n",
        "    # 0.0002\n",
        "    # 0.000009\n",
        "    loss = 'sparse_categorical_crossentropy'\n",
        "\n",
        "    with strategy.scope():\n",
        "        bert_layer = TFBertModel.from_pretrained(BERT_MODEL,from_pt=True)\n",
        "        model = createModel(bert_layer,\n",
        "                            max_len=MAX_LEN,\n",
        "                            categories=categories,\n",
        "                            op=optimizer,\n",
        "                            loss=loss)\n",
        "        model.summary()\n",
        "\n",
        "    x_encoded = tokenizeAndEncode(x_train, fast_tokenizer, maxlen=MAX_LEN)\n",
        "    x_test_encoded = tokenizeAndEncode(x_validate, fast_tokenizer, maxlen=MAX_LEN)\n",
        "    \n",
        "    batch_size = 64\n",
        "\n",
        "    train_dataset = (\n",
        "        tf.data.Dataset\n",
        "        .from_tensor_slices((x_encoded, y_train))\n",
        "        .batch(batch_size)\n",
        "        .prefetch(AUTO)\n",
        "    )\n",
        "\n",
        "    valid_dataset = (\n",
        "        tf.data.Dataset\n",
        "        .from_tensor_slices((x_test_encoded, y_validate))\n",
        "        .batch(batch_size)\n",
        "        .shuffle(2008)\n",
        "        .prefetch(AUTO)\n",
        "    )\n",
        "\n",
        "    nb_epochs=epochs\n",
        "\n",
        "    es = EarlyStopping(\n",
        "        monitor='val_acc',\n",
        "        mode='max',\n",
        "        verbose=1,\n",
        "        patience=5,\n",
        "        restore_best_weights=True)\n",
        "  \n",
        "    callbacks_list=[es]\n",
        "\n",
        "    history = model.fit_generator(\n",
        "        train_dataset,\n",
        "        validation_data=valid_dataset,\n",
        "        epochs=nb_epochs,\n",
        "        callbacks=callbacks_list,\n",
        "        class_weight=dict(enumerate(class_w))\n",
        "    )\n",
        "\n",
        "    prefix = 'bert'\n",
        "\n",
        "    plt.figure(1)\n",
        "    plt.plot(history.history['acc'])\n",
        "    plt.plot(history.history['val_acc'])\n",
        "    plt.title('model accuracy')\n",
        "    plt.ylabel('accuracy')\n",
        "    plt.xlabel('epoch')\n",
        "    plt.legend(['train', 'val'], loc='upper left')\n",
        "    plt.savefig(str(iteration)+'_acc_'+prefix+'.png')\n",
        "    plt.clf()\n",
        "    plt.figure(1)\n",
        "    plt.plot(history.history['loss'])\n",
        "    plt.plot(history.history['val_loss'])\n",
        "    plt.title('model loss')\n",
        "    plt.ylabel('loss')\n",
        "    plt.xlabel('epoch')\n",
        "    plt.legend(['train', 'val'], loc='upper left')\n",
        "    plt.savefig(str(iteration)+'_loss_'+prefix+'.png')\n",
        "    plt.clf()\n",
        "\n",
        "    return model"
      ],
      "execution_count": 18,
      "outputs": []
    },
    {
      "cell_type": "code",
      "metadata": {
        "trusted": true,
        "id": "oCR0-NCWO5uE",
        "colab_type": "code",
        "colab": {
          "base_uri": "https://localhost:8080/",
          "height": 1000
        },
        "outputId": "46d241ef-919f-49d3-8656-25a54018e927"
      },
      "source": [
        "from sklearn.model_selection import KFold, StratifiedKFold\n",
        "from sklearn.utils import class_weight\n",
        "from sklearn.metrics import balanced_accuracy_score\n",
        "\n",
        "N_FOLDS = 10\n",
        "EPOCHS = 150\n",
        "\n",
        "x = train_data.Pregunta.values.astype(str)\n",
        "y = train_data.labels.values.astype(int)\n",
        "\n",
        "class_weights = class_weight.compute_class_weight(\n",
        "    'balanced',\n",
        "    classes=np.unique(y),\n",
        "    y=y)\n",
        "\n",
        "kfold = StratifiedKFold(N_FOLDS, True, 1)\n",
        "iteration = 0\n",
        "\n",
        "scores = []\n",
        "predictions = []\n",
        "\n",
        "for train_ix, test_ix in kfold.split(x, y):\n",
        "    tf.tpu.experimental.initialize_tpu_system(tpu)\n",
        "    print('🚀 Starting kfold iteration: ' + str(iteration) + '/' + str(N_FOLDS-1))\n",
        "    trainX, trainy = x[train_ix], y[train_ix]\n",
        "    testX, testy = x[test_ix], y[test_ix]\n",
        "    \n",
        "    model = trainModel(\n",
        "        trainX,\n",
        "        trainy,\n",
        "        testX,\n",
        "        testy,\n",
        "        class_weights,\n",
        "        iteration,\n",
        "        MAX_LEN,\n",
        "        EPOCHS)\n",
        "    \n",
        "    encoded_for_test = tokenizeAndEncode(testX, fast_tokenizer, maxlen=MAX_LEN)\n",
        "\n",
        "    y_pred = model.predict(encoded_for_test, verbose=0)\n",
        "    y_pred_max = np.argmax(y_pred, axis=1).tolist()\n",
        "    iteration = iteration + 1\n",
        "\n",
        "    print(\"Balanced Acc for: \")\n",
        "    bacc = balanced_accuracy_score(testy, y_pred_max)\n",
        "    print (\"\\n########## Balanced Acc: %0.8f ##########\\n\" % bacc )\n",
        "    scores.append(bacc)\n",
        "    predictions.append(model.predict(test_dataset))\n",
        "\n",
        "    del model\n",
        "    gc.collect()\n"
      ],
      "execution_count": 19,
      "outputs": [
        {
          "output_type": "stream",
          "text": [
            "WARNING:tensorflow:TPU system grpc://10.14.42.210:8470 has already been initialized. Reinitializing the TPU can cause previously created variables on TPU to be lost.\n"
          ],
          "name": "stdout"
        },
        {
          "output_type": "stream",
          "text": [
            "/usr/local/lib/python3.6/dist-packages/sklearn/model_selection/_split.py:667: UserWarning: The least populated class in y has only 2 members, which is less than n_splits=10.\n",
            "  % (min_groups, self.n_splits)), UserWarning)\n",
            "WARNING:tensorflow:TPU system grpc://10.14.42.210:8470 has already been initialized. Reinitializing the TPU can cause previously created variables on TPU to be lost.\n"
          ],
          "name": "stderr"
        },
        {
          "output_type": "stream",
          "text": [
            "INFO:tensorflow:Initializing the TPU system: grpc://10.14.42.210:8470\n"
          ],
          "name": "stdout"
        },
        {
          "output_type": "stream",
          "text": [
            "INFO:tensorflow:Initializing the TPU system: grpc://10.14.42.210:8470\n"
          ],
          "name": "stderr"
        },
        {
          "output_type": "stream",
          "text": [
            "INFO:tensorflow:Clearing out eager caches\n"
          ],
          "name": "stdout"
        },
        {
          "output_type": "stream",
          "text": [
            "INFO:tensorflow:Clearing out eager caches\n"
          ],
          "name": "stderr"
        },
        {
          "output_type": "stream",
          "text": [
            "INFO:tensorflow:Finished initializing TPU system.\n"
          ],
          "name": "stdout"
        },
        {
          "output_type": "stream",
          "text": [
            "INFO:tensorflow:Finished initializing TPU system.\n"
          ],
          "name": "stderr"
        },
        {
          "output_type": "stream",
          "text": [
            "🚀 Starting kfold iteration: 0/9\n"
          ],
          "name": "stdout"
        },
        {
          "output_type": "stream",
          "text": [
            "WARNING:transformers.modeling_tf_pytorch_utils:All PyTorch model weights were used when initializing TFBertModel.\n",
            "\n",
            "WARNING:transformers.modeling_tf_pytorch_utils:Some weights or buffers of the PyTorch model TFBertModel were not initialized from the TF 2.0 model and are newly initialized: ['cls.predictions.decoder.weight', 'cls.predictions.bias', 'cls.predictions.transform.dense.weight', 'cls.predictions.transform.dense.bias', 'cls.predictions.transform.LayerNorm.bias', 'cls.predictions.transform.LayerNorm.weight']\n",
            "You should probably TRAIN this model on a down-stream task to be able to use it for predictions and inference.\n"
          ],
          "name": "stderr"
        },
        {
          "output_type": "stream",
          "text": [
            "Model: \"model_2\"\n",
            "_________________________________________________________________\n",
            "Layer (type)                 Output Shape              Param #   \n",
            "=================================================================\n",
            "input_3 (InputLayer)         [(None, 30)]              0         \n",
            "_________________________________________________________________\n",
            "tf_bert_model_2 (TFBertModel ((None, 30, 768), (None,  109850880 \n",
            "_________________________________________________________________\n",
            "tf_op_layer_strided_slice_2  [(None, 768)]             0         \n",
            "_________________________________________________________________\n",
            "dropout_113 (Dropout)        (None, 768)               0         \n",
            "_________________________________________________________________\n",
            "dense_2 (Dense)              (None, 352)               270688    \n",
            "=================================================================\n",
            "Total params: 110,121,568\n",
            "Trainable params: 110,121,568\n",
            "Non-trainable params: 0\n",
            "_________________________________________________________________\n",
            "Epoch 1/150\n",
            "WARNING:tensorflow:Gradients do not exist for variables ['tf_bert_model_2/bert/pooler/dense/kernel:0', 'tf_bert_model_2/bert/pooler/dense/bias:0'] when minimizing the loss.\n"
          ],
          "name": "stdout"
        },
        {
          "output_type": "stream",
          "text": [
            "WARNING:tensorflow:Gradients do not exist for variables ['tf_bert_model_2/bert/pooler/dense/kernel:0', 'tf_bert_model_2/bert/pooler/dense/bias:0'] when minimizing the loss.\n"
          ],
          "name": "stderr"
        },
        {
          "output_type": "stream",
          "text": [
            "WARNING:tensorflow:Gradients do not exist for variables ['tf_bert_model_2/bert/pooler/dense/kernel:0', 'tf_bert_model_2/bert/pooler/dense/bias:0'] when minimizing the loss.\n"
          ],
          "name": "stdout"
        },
        {
          "output_type": "stream",
          "text": [
            "WARNING:tensorflow:Gradients do not exist for variables ['tf_bert_model_2/bert/pooler/dense/kernel:0', 'tf_bert_model_2/bert/pooler/dense/bias:0'] when minimizing the loss.\n"
          ],
          "name": "stderr"
        },
        {
          "output_type": "stream",
          "text": [
            "WARNING:tensorflow:Gradients do not exist for variables ['tf_bert_model_2/bert/pooler/dense/kernel:0', 'tf_bert_model_2/bert/pooler/dense/bias:0'] when minimizing the loss.\n"
          ],
          "name": "stdout"
        },
        {
          "output_type": "stream",
          "text": [
            "WARNING:tensorflow:Gradients do not exist for variables ['tf_bert_model_2/bert/pooler/dense/kernel:0', 'tf_bert_model_2/bert/pooler/dense/bias:0'] when minimizing the loss.\n"
          ],
          "name": "stderr"
        },
        {
          "output_type": "stream",
          "text": [
            "WARNING:tensorflow:Gradients do not exist for variables ['tf_bert_model_2/bert/pooler/dense/kernel:0', 'tf_bert_model_2/bert/pooler/dense/bias:0'] when minimizing the loss.\n"
          ],
          "name": "stdout"
        },
        {
          "output_type": "stream",
          "text": [
            "WARNING:tensorflow:Gradients do not exist for variables ['tf_bert_model_2/bert/pooler/dense/kernel:0', 'tf_bert_model_2/bert/pooler/dense/bias:0'] when minimizing the loss.\n"
          ],
          "name": "stderr"
        },
        {
          "output_type": "stream",
          "text": [
            "283/283 [==============================] - 53s 187ms/step - acc: 0.0061 - loss: 6.0011 - val_acc: 0.0293 - val_loss: 5.2806\n",
            "Epoch 2/150\n",
            "283/283 [==============================] - 24s 85ms/step - acc: 0.1186 - loss: 4.1271 - val_acc: 0.3421 - val_loss: 3.0960\n",
            "Epoch 3/150\n",
            "283/283 [==============================] - 24s 85ms/step - acc: 0.3929 - loss: 2.0985 - val_acc: 0.5351 - val_loss: 1.9118\n",
            "Epoch 4/150\n",
            "283/283 [==============================] - 24s 84ms/step - acc: 0.5986 - loss: 1.1222 - val_acc: 0.6718 - val_loss: 1.3284\n",
            "Epoch 5/150\n",
            "283/283 [==============================] - 24s 85ms/step - acc: 0.7221 - loss: 0.6690 - val_acc: 0.7270 - val_loss: 1.0512\n",
            "Epoch 6/150\n",
            "283/283 [==============================] - 25s 87ms/step - acc: 0.8042 - loss: 0.4119 - val_acc: 0.7713 - val_loss: 0.8739\n",
            "Epoch 7/150\n",
            "283/283 [==============================] - 25s 89ms/step - acc: 0.8570 - loss: 0.2750 - val_acc: 0.8006 - val_loss: 0.7622\n",
            "Epoch 8/150\n",
            "283/283 [==============================] - 25s 87ms/step - acc: 0.9017 - loss: 0.1782 - val_acc: 0.8255 - val_loss: 0.6972\n",
            "Epoch 9/150\n",
            "283/283 [==============================] - 25s 87ms/step - acc: 0.9210 - loss: 0.1292 - val_acc: 0.8344 - val_loss: 0.6539\n",
            "Epoch 10/150\n",
            "283/283 [==============================] - 25s 87ms/step - acc: 0.9374 - loss: 0.1075 - val_acc: 0.8488 - val_loss: 0.6406\n",
            "Epoch 11/150\n",
            "283/283 [==============================] - 24s 86ms/step - acc: 0.9561 - loss: 0.0722 - val_acc: 0.8652 - val_loss: 0.5832\n",
            "Epoch 12/150\n",
            "283/283 [==============================] - 24s 83ms/step - acc: 0.9661 - loss: 0.0569 - val_acc: 0.8583 - val_loss: 0.5944\n",
            "Epoch 13/150\n",
            "283/283 [==============================] - 23s 82ms/step - acc: 0.9686 - loss: 0.0652 - val_acc: 0.8498 - val_loss: 0.6161\n",
            "Epoch 14/150\n",
            "283/283 [==============================] - 23s 83ms/step - acc: 0.9660 - loss: 0.0722 - val_acc: 0.8598 - val_loss: 0.5976\n",
            "Epoch 15/150\n",
            "283/283 [==============================] - 23s 83ms/step - acc: 0.9760 - loss: 0.0510 - val_acc: 0.8647 - val_loss: 0.6018\n",
            "Epoch 16/150\n",
            "283/283 [==============================] - 25s 87ms/step - acc: 0.9840 - loss: 0.0296 - val_acc: 0.8732 - val_loss: 0.5915\n",
            "Epoch 17/150\n",
            "283/283 [==============================] - 24s 83ms/step - acc: 0.9846 - loss: 0.0293 - val_acc: 0.8667 - val_loss: 0.6175\n",
            "Epoch 18/150\n",
            "283/283 [==============================] - 24s 84ms/step - acc: 0.9755 - loss: 0.0540 - val_acc: 0.8603 - val_loss: 0.6320\n",
            "Epoch 19/150\n",
            "283/283 [==============================] - 24s 84ms/step - acc: 0.9792 - loss: 0.0621 - val_acc: 0.8618 - val_loss: 0.6457\n",
            "Epoch 20/150\n",
            "283/283 [==============================] - 24s 85ms/step - acc: 0.9779 - loss: 0.0540 - val_acc: 0.8697 - val_loss: 0.6180\n",
            "Epoch 21/150\n",
            "283/283 [==============================] - 25s 87ms/step - acc: 0.9834 - loss: 0.0356 - val_acc: 0.8737 - val_loss: 0.6233\n",
            "Epoch 22/150\n",
            "283/283 [==============================] - 25s 87ms/step - acc: 0.9864 - loss: 0.0262 - val_acc: 0.8821 - val_loss: 0.5795\n",
            "Epoch 23/150\n",
            "283/283 [==============================] - 24s 83ms/step - acc: 0.9870 - loss: 0.0362 - val_acc: 0.8732 - val_loss: 0.6134\n",
            "Epoch 24/150\n",
            "283/283 [==============================] - 23s 82ms/step - acc: 0.9866 - loss: 0.0337 - val_acc: 0.8762 - val_loss: 0.5914\n",
            "Epoch 25/150\n",
            "283/283 [==============================] - 23s 83ms/step - acc: 0.9882 - loss: 0.0236 - val_acc: 0.8792 - val_loss: 0.6132\n",
            "Epoch 26/150\n",
            "283/283 [==============================] - 23s 82ms/step - acc: 0.9865 - loss: 0.0339 - val_acc: 0.8732 - val_loss: 0.6251\n",
            "Epoch 27/150\n",
            "283/283 [==============================] - ETA: 0s - acc: 0.9816 - loss: 0.0468Restoring model weights from the end of the best epoch.\n",
            "283/283 [==============================] - 26s 91ms/step - acc: 0.9816 - loss: 0.0468 - val_acc: 0.8667 - val_loss: 0.6653\n",
            "Epoch 00027: early stopping\n",
            "Balanced Acc for: \n",
            "\n",
            "########## Balanced Acc: 0.84753053 ##########\n",
            "\n"
          ],
          "name": "stdout"
        },
        {
          "output_type": "stream",
          "text": [
            "/usr/local/lib/python3.6/dist-packages/sklearn/metrics/_classification.py:1859: UserWarning: y_pred contains classes not in y_true\n",
            "  warnings.warn('y_pred contains classes not in y_true')\n"
          ],
          "name": "stderr"
        },
        {
          "output_type": "stream",
          "text": [
            "WARNING:tensorflow:TPU system grpc://10.14.42.210:8470 has already been initialized. Reinitializing the TPU can cause previously created variables on TPU to be lost.\n"
          ],
          "name": "stdout"
        },
        {
          "output_type": "stream",
          "text": [
            "WARNING:tensorflow:TPU system grpc://10.14.42.210:8470 has already been initialized. Reinitializing the TPU can cause previously created variables on TPU to be lost.\n"
          ],
          "name": "stderr"
        },
        {
          "output_type": "stream",
          "text": [
            "INFO:tensorflow:Initializing the TPU system: grpc://10.14.42.210:8470\n"
          ],
          "name": "stdout"
        },
        {
          "output_type": "stream",
          "text": [
            "INFO:tensorflow:Initializing the TPU system: grpc://10.14.42.210:8470\n"
          ],
          "name": "stderr"
        },
        {
          "output_type": "stream",
          "text": [
            "INFO:tensorflow:Clearing out eager caches\n"
          ],
          "name": "stdout"
        },
        {
          "output_type": "stream",
          "text": [
            "INFO:tensorflow:Clearing out eager caches\n"
          ],
          "name": "stderr"
        },
        {
          "output_type": "stream",
          "text": [
            "INFO:tensorflow:Finished initializing TPU system.\n"
          ],
          "name": "stdout"
        },
        {
          "output_type": "stream",
          "text": [
            "INFO:tensorflow:Finished initializing TPU system.\n"
          ],
          "name": "stderr"
        },
        {
          "output_type": "stream",
          "text": [
            "🚀 Starting kfold iteration: 1/9\n"
          ],
          "name": "stdout"
        },
        {
          "output_type": "stream",
          "text": [
            "WARNING:transformers.modeling_tf_pytorch_utils:All PyTorch model weights were used when initializing TFBertModel.\n",
            "\n",
            "WARNING:transformers.modeling_tf_pytorch_utils:Some weights or buffers of the PyTorch model TFBertModel were not initialized from the TF 2.0 model and are newly initialized: ['cls.predictions.decoder.weight', 'cls.predictions.bias', 'cls.predictions.transform.dense.weight', 'cls.predictions.transform.dense.bias', 'cls.predictions.transform.LayerNorm.bias', 'cls.predictions.transform.LayerNorm.weight']\n",
            "You should probably TRAIN this model on a down-stream task to be able to use it for predictions and inference.\n"
          ],
          "name": "stderr"
        },
        {
          "output_type": "stream",
          "text": [
            "Model: \"model_3\"\n",
            "_________________________________________________________________\n",
            "Layer (type)                 Output Shape              Param #   \n",
            "=================================================================\n",
            "input_4 (InputLayer)         [(None, 30)]              0         \n",
            "_________________________________________________________________\n",
            "tf_bert_model_3 (TFBertModel ((None, 30, 768), (None,  109850880 \n",
            "_________________________________________________________________\n",
            "tf_op_layer_strided_slice_3  [(None, 768)]             0         \n",
            "_________________________________________________________________\n",
            "dropout_151 (Dropout)        (None, 768)               0         \n",
            "_________________________________________________________________\n",
            "dense_3 (Dense)              (None, 352)               270688    \n",
            "=================================================================\n",
            "Total params: 110,121,568\n",
            "Trainable params: 110,121,568\n",
            "Non-trainable params: 0\n",
            "_________________________________________________________________\n",
            "Epoch 1/150\n",
            "WARNING:tensorflow:Gradients do not exist for variables ['tf_bert_model_3/bert/pooler/dense/kernel:0', 'tf_bert_model_3/bert/pooler/dense/bias:0'] when minimizing the loss.\n"
          ],
          "name": "stdout"
        },
        {
          "output_type": "stream",
          "text": [
            "WARNING:tensorflow:Gradients do not exist for variables ['tf_bert_model_3/bert/pooler/dense/kernel:0', 'tf_bert_model_3/bert/pooler/dense/bias:0'] when minimizing the loss.\n"
          ],
          "name": "stderr"
        },
        {
          "output_type": "stream",
          "text": [
            "WARNING:tensorflow:Gradients do not exist for variables ['tf_bert_model_3/bert/pooler/dense/kernel:0', 'tf_bert_model_3/bert/pooler/dense/bias:0'] when minimizing the loss.\n"
          ],
          "name": "stdout"
        },
        {
          "output_type": "stream",
          "text": [
            "WARNING:tensorflow:Gradients do not exist for variables ['tf_bert_model_3/bert/pooler/dense/kernel:0', 'tf_bert_model_3/bert/pooler/dense/bias:0'] when minimizing the loss.\n"
          ],
          "name": "stderr"
        },
        {
          "output_type": "stream",
          "text": [
            "WARNING:tensorflow:Gradients do not exist for variables ['tf_bert_model_3/bert/pooler/dense/kernel:0', 'tf_bert_model_3/bert/pooler/dense/bias:0'] when minimizing the loss.\n"
          ],
          "name": "stdout"
        },
        {
          "output_type": "stream",
          "text": [
            "WARNING:tensorflow:Gradients do not exist for variables ['tf_bert_model_3/bert/pooler/dense/kernel:0', 'tf_bert_model_3/bert/pooler/dense/bias:0'] when minimizing the loss.\n"
          ],
          "name": "stderr"
        },
        {
          "output_type": "stream",
          "text": [
            "WARNING:tensorflow:Gradients do not exist for variables ['tf_bert_model_3/bert/pooler/dense/kernel:0', 'tf_bert_model_3/bert/pooler/dense/bias:0'] when minimizing the loss.\n"
          ],
          "name": "stdout"
        },
        {
          "output_type": "stream",
          "text": [
            "WARNING:tensorflow:Gradients do not exist for variables ['tf_bert_model_3/bert/pooler/dense/kernel:0', 'tf_bert_model_3/bert/pooler/dense/bias:0'] when minimizing the loss.\n"
          ],
          "name": "stderr"
        },
        {
          "output_type": "stream",
          "text": [
            "283/283 [==============================] - 53s 187ms/step - acc: 0.0026 - loss: 6.2552 - val_acc: 9.9453e-04 - val_loss: 5.8637\n",
            "Epoch 2/150\n",
            "283/283 [==============================] - 25s 87ms/step - acc: 0.0044 - loss: 6.0036 - val_acc: 0.0060 - val_loss: 5.4808\n",
            "Epoch 3/150\n",
            "283/283 [==============================] - 24s 86ms/step - acc: 0.0912 - loss: 4.5708 - val_acc: 0.3053 - val_loss: 3.2628\n",
            "Epoch 4/150\n",
            "283/283 [==============================] - 24s 86ms/step - acc: 0.3787 - loss: 2.1710 - val_acc: 0.5385 - val_loss: 2.0097\n",
            "Epoch 5/150\n",
            "283/283 [==============================] - 24s 86ms/step - acc: 0.6049 - loss: 1.1051 - val_acc: 0.6678 - val_loss: 1.3734\n",
            "Epoch 6/150\n",
            "283/283 [==============================] - 25s 87ms/step - acc: 0.7430 - loss: 0.6220 - val_acc: 0.7399 - val_loss: 1.0391\n",
            "Epoch 7/150\n",
            "283/283 [==============================] - 24s 87ms/step - acc: 0.8216 - loss: 0.3946 - val_acc: 0.7767 - val_loss: 0.8736\n",
            "Epoch 8/150\n",
            "283/283 [==============================] - 25s 87ms/step - acc: 0.8720 - loss: 0.2531 - val_acc: 0.8066 - val_loss: 0.7829\n",
            "Epoch 9/150\n",
            "283/283 [==============================] - 25s 88ms/step - acc: 0.9116 - loss: 0.1719 - val_acc: 0.8230 - val_loss: 0.7137\n",
            "Epoch 10/150\n",
            "283/283 [==============================] - 24s 86ms/step - acc: 0.9336 - loss: 0.1227 - val_acc: 0.8364 - val_loss: 0.6822\n",
            "Epoch 11/150\n",
            "283/283 [==============================] - 24s 86ms/step - acc: 0.9504 - loss: 0.0932 - val_acc: 0.8434 - val_loss: 0.6561\n",
            "Epoch 12/150\n",
            "283/283 [==============================] - 24s 84ms/step - acc: 0.9625 - loss: 0.0663 - val_acc: 0.8483 - val_loss: 0.6522\n",
            "Epoch 13/150\n",
            "283/283 [==============================] - 24s 85ms/step - acc: 0.9720 - loss: 0.0532 - val_acc: 0.8523 - val_loss: 0.6709\n",
            "Epoch 14/150\n",
            "283/283 [==============================] - 23s 81ms/step - acc: 0.9746 - loss: 0.0538 - val_acc: 0.8513 - val_loss: 0.6752\n",
            "Epoch 15/150\n",
            "283/283 [==============================] - 24s 85ms/step - acc: 0.9736 - loss: 0.0532 - val_acc: 0.8593 - val_loss: 0.6573\n",
            "Epoch 16/150\n",
            "283/283 [==============================] - 24s 85ms/step - acc: 0.9753 - loss: 0.0525 - val_acc: 0.8687 - val_loss: 0.6454\n",
            "Epoch 17/150\n",
            "283/283 [==============================] - 23s 80ms/step - acc: 0.9830 - loss: 0.0364 - val_acc: 0.8603 - val_loss: 0.6733\n",
            "Epoch 18/150\n",
            "283/283 [==============================] - 23s 81ms/step - acc: 0.9833 - loss: 0.0396 - val_acc: 0.8558 - val_loss: 0.6924\n",
            "Epoch 19/150\n",
            "283/283 [==============================] - 23s 82ms/step - acc: 0.9862 - loss: 0.0337 - val_acc: 0.8538 - val_loss: 0.7082\n",
            "Epoch 20/150\n",
            "283/283 [==============================] - 23s 83ms/step - acc: 0.9819 - loss: 0.0530 - val_acc: 0.8613 - val_loss: 0.7004\n",
            "Epoch 21/150\n",
            "283/283 [==============================] - ETA: 0s - acc: 0.9871 - loss: 0.0388Restoring model weights from the end of the best epoch.\n",
            "283/283 [==============================] - 27s 97ms/step - acc: 0.9871 - loss: 0.0388 - val_acc: 0.8628 - val_loss: 0.6885\n",
            "Epoch 00021: early stopping\n",
            "Balanced Acc for: \n",
            "\n",
            "########## Balanced Acc: 0.81042948 ##########\n",
            "\n",
            "WARNING:tensorflow:TPU system grpc://10.14.42.210:8470 has already been initialized. Reinitializing the TPU can cause previously created variables on TPU to be lost.\n"
          ],
          "name": "stdout"
        },
        {
          "output_type": "stream",
          "text": [
            "WARNING:tensorflow:TPU system grpc://10.14.42.210:8470 has already been initialized. Reinitializing the TPU can cause previously created variables on TPU to be lost.\n"
          ],
          "name": "stderr"
        },
        {
          "output_type": "stream",
          "text": [
            "INFO:tensorflow:Initializing the TPU system: grpc://10.14.42.210:8470\n"
          ],
          "name": "stdout"
        },
        {
          "output_type": "stream",
          "text": [
            "INFO:tensorflow:Initializing the TPU system: grpc://10.14.42.210:8470\n"
          ],
          "name": "stderr"
        },
        {
          "output_type": "stream",
          "text": [
            "INFO:tensorflow:Clearing out eager caches\n"
          ],
          "name": "stdout"
        },
        {
          "output_type": "stream",
          "text": [
            "INFO:tensorflow:Clearing out eager caches\n"
          ],
          "name": "stderr"
        },
        {
          "output_type": "stream",
          "text": [
            "INFO:tensorflow:Finished initializing TPU system.\n"
          ],
          "name": "stdout"
        },
        {
          "output_type": "stream",
          "text": [
            "INFO:tensorflow:Finished initializing TPU system.\n"
          ],
          "name": "stderr"
        },
        {
          "output_type": "stream",
          "text": [
            "🚀 Starting kfold iteration: 2/9\n"
          ],
          "name": "stdout"
        },
        {
          "output_type": "stream",
          "text": [
            "WARNING:transformers.modeling_tf_pytorch_utils:All PyTorch model weights were used when initializing TFBertModel.\n",
            "\n",
            "WARNING:transformers.modeling_tf_pytorch_utils:Some weights or buffers of the PyTorch model TFBertModel were not initialized from the TF 2.0 model and are newly initialized: ['cls.predictions.decoder.weight', 'cls.predictions.bias', 'cls.predictions.transform.dense.weight', 'cls.predictions.transform.dense.bias', 'cls.predictions.transform.LayerNorm.bias', 'cls.predictions.transform.LayerNorm.weight']\n",
            "You should probably TRAIN this model on a down-stream task to be able to use it for predictions and inference.\n"
          ],
          "name": "stderr"
        },
        {
          "output_type": "stream",
          "text": [
            "Model: \"model_4\"\n",
            "_________________________________________________________________\n",
            "Layer (type)                 Output Shape              Param #   \n",
            "=================================================================\n",
            "input_5 (InputLayer)         [(None, 30)]              0         \n",
            "_________________________________________________________________\n",
            "tf_bert_model_4 (TFBertModel ((None, 30, 768), (None,  109850880 \n",
            "_________________________________________________________________\n",
            "tf_op_layer_strided_slice_4  [(None, 768)]             0         \n",
            "_________________________________________________________________\n",
            "dropout_189 (Dropout)        (None, 768)               0         \n",
            "_________________________________________________________________\n",
            "dense_4 (Dense)              (None, 352)               270688    \n",
            "=================================================================\n",
            "Total params: 110,121,568\n",
            "Trainable params: 110,121,568\n",
            "Non-trainable params: 0\n",
            "_________________________________________________________________\n",
            "Epoch 1/150\n",
            "WARNING:tensorflow:Gradients do not exist for variables ['tf_bert_model_4/bert/pooler/dense/kernel:0', 'tf_bert_model_4/bert/pooler/dense/bias:0'] when minimizing the loss.\n"
          ],
          "name": "stdout"
        },
        {
          "output_type": "stream",
          "text": [
            "WARNING:tensorflow:Gradients do not exist for variables ['tf_bert_model_4/bert/pooler/dense/kernel:0', 'tf_bert_model_4/bert/pooler/dense/bias:0'] when minimizing the loss.\n"
          ],
          "name": "stderr"
        },
        {
          "output_type": "stream",
          "text": [
            "WARNING:tensorflow:Gradients do not exist for variables ['tf_bert_model_4/bert/pooler/dense/kernel:0', 'tf_bert_model_4/bert/pooler/dense/bias:0'] when minimizing the loss.\n"
          ],
          "name": "stdout"
        },
        {
          "output_type": "stream",
          "text": [
            "WARNING:tensorflow:Gradients do not exist for variables ['tf_bert_model_4/bert/pooler/dense/kernel:0', 'tf_bert_model_4/bert/pooler/dense/bias:0'] when minimizing the loss.\n"
          ],
          "name": "stderr"
        },
        {
          "output_type": "stream",
          "text": [
            "WARNING:tensorflow:Gradients do not exist for variables ['tf_bert_model_4/bert/pooler/dense/kernel:0', 'tf_bert_model_4/bert/pooler/dense/bias:0'] when minimizing the loss.\n"
          ],
          "name": "stdout"
        },
        {
          "output_type": "stream",
          "text": [
            "WARNING:tensorflow:Gradients do not exist for variables ['tf_bert_model_4/bert/pooler/dense/kernel:0', 'tf_bert_model_4/bert/pooler/dense/bias:0'] when minimizing the loss.\n"
          ],
          "name": "stderr"
        },
        {
          "output_type": "stream",
          "text": [
            "WARNING:tensorflow:Gradients do not exist for variables ['tf_bert_model_4/bert/pooler/dense/kernel:0', 'tf_bert_model_4/bert/pooler/dense/bias:0'] when minimizing the loss.\n"
          ],
          "name": "stdout"
        },
        {
          "output_type": "stream",
          "text": [
            "WARNING:tensorflow:Gradients do not exist for variables ['tf_bert_model_4/bert/pooler/dense/kernel:0', 'tf_bert_model_4/bert/pooler/dense/bias:0'] when minimizing the loss.\n"
          ],
          "name": "stderr"
        },
        {
          "output_type": "stream",
          "text": [
            "283/283 [==============================] - 52s 184ms/step - acc: 0.0045 - loss: 6.0195 - val_acc: 0.0313 - val_loss: 5.4535\n",
            "Epoch 2/150\n",
            "283/283 [==============================] - 24s 86ms/step - acc: 0.1118 - loss: 4.2545 - val_acc: 0.3187 - val_loss: 3.2452\n",
            "Epoch 3/150\n",
            "283/283 [==============================] - 25s 87ms/step - acc: 0.3957 - loss: 2.0773 - val_acc: 0.5500 - val_loss: 1.9727\n",
            "Epoch 4/150\n",
            "283/283 [==============================] - 25s 87ms/step - acc: 0.5995 - loss: 1.1013 - val_acc: 0.6698 - val_loss: 1.3620\n",
            "Epoch 5/150\n",
            "283/283 [==============================] - 25s 87ms/step - acc: 0.7240 - loss: 0.6474 - val_acc: 0.7215 - val_loss: 1.0674\n",
            "Epoch 6/150\n",
            "283/283 [==============================] - 25s 87ms/step - acc: 0.8056 - loss: 0.4210 - val_acc: 0.7723 - val_loss: 0.8735\n",
            "Epoch 7/150\n",
            "283/283 [==============================] - 25s 88ms/step - acc: 0.8595 - loss: 0.2735 - val_acc: 0.7951 - val_loss: 0.7558\n",
            "Epoch 8/150\n",
            "283/283 [==============================] - 25s 87ms/step - acc: 0.8994 - loss: 0.1784 - val_acc: 0.8240 - val_loss: 0.6808\n",
            "Epoch 9/150\n",
            "283/283 [==============================] - 25s 87ms/step - acc: 0.9291 - loss: 0.1241 - val_acc: 0.8419 - val_loss: 0.6251\n",
            "Epoch 10/150\n",
            "283/283 [==============================] - 25s 87ms/step - acc: 0.9435 - loss: 0.1064 - val_acc: 0.8434 - val_loss: 0.6043\n",
            "Epoch 11/150\n",
            "283/283 [==============================] - 24s 86ms/step - acc: 0.9592 - loss: 0.0736 - val_acc: 0.8473 - val_loss: 0.6091\n",
            "Epoch 12/150\n",
            "283/283 [==============================] - 25s 87ms/step - acc: 0.9661 - loss: 0.0601 - val_acc: 0.8628 - val_loss: 0.5727\n",
            "Epoch 13/150\n",
            "283/283 [==============================] - 24s 86ms/step - acc: 0.9726 - loss: 0.0533 - val_acc: 0.8647 - val_loss: 0.5794\n",
            "Epoch 14/150\n",
            "283/283 [==============================] - 23s 83ms/step - acc: 0.9749 - loss: 0.0518 - val_acc: 0.8593 - val_loss: 0.5757\n",
            "Epoch 15/150\n",
            "283/283 [==============================] - 25s 87ms/step - acc: 0.9756 - loss: 0.0464 - val_acc: 0.8667 - val_loss: 0.5648\n",
            "Epoch 16/150\n",
            "283/283 [==============================] - 24s 85ms/step - acc: 0.9799 - loss: 0.0412 - val_acc: 0.8777 - val_loss: 0.5530\n",
            "Epoch 17/150\n",
            "283/283 [==============================] - 23s 82ms/step - acc: 0.9846 - loss: 0.0330 - val_acc: 0.8712 - val_loss: 0.5752\n",
            "Epoch 18/150\n",
            "283/283 [==============================] - 23s 82ms/step - acc: 0.9859 - loss: 0.0332 - val_acc: 0.8712 - val_loss: 0.5628\n",
            "Epoch 19/150\n",
            "283/283 [==============================] - 23s 81ms/step - acc: 0.9860 - loss: 0.0389 - val_acc: 0.8583 - val_loss: 0.6375\n",
            "Epoch 20/150\n",
            "283/283 [==============================] - 23s 82ms/step - acc: 0.9672 - loss: 0.0902 - val_acc: 0.8533 - val_loss: 0.6561\n",
            "Epoch 21/150\n",
            "283/283 [==============================] - ETA: 0s - acc: 0.9756 - loss: 0.0665Restoring model weights from the end of the best epoch.\n",
            "283/283 [==============================] - 26s 91ms/step - acc: 0.9756 - loss: 0.0665 - val_acc: 0.8468 - val_loss: 0.6789\n",
            "Epoch 00021: early stopping\n",
            "Balanced Acc for: \n",
            "\n",
            "########## Balanced Acc: 0.83075642 ##########\n",
            "\n",
            "WARNING:tensorflow:TPU system grpc://10.14.42.210:8470 has already been initialized. Reinitializing the TPU can cause previously created variables on TPU to be lost.\n"
          ],
          "name": "stdout"
        },
        {
          "output_type": "stream",
          "text": [
            "WARNING:tensorflow:TPU system grpc://10.14.42.210:8470 has already been initialized. Reinitializing the TPU can cause previously created variables on TPU to be lost.\n"
          ],
          "name": "stderr"
        },
        {
          "output_type": "stream",
          "text": [
            "INFO:tensorflow:Initializing the TPU system: grpc://10.14.42.210:8470\n"
          ],
          "name": "stdout"
        },
        {
          "output_type": "stream",
          "text": [
            "INFO:tensorflow:Initializing the TPU system: grpc://10.14.42.210:8470\n"
          ],
          "name": "stderr"
        },
        {
          "output_type": "stream",
          "text": [
            "INFO:tensorflow:Clearing out eager caches\n"
          ],
          "name": "stdout"
        },
        {
          "output_type": "stream",
          "text": [
            "INFO:tensorflow:Clearing out eager caches\n"
          ],
          "name": "stderr"
        },
        {
          "output_type": "stream",
          "text": [
            "INFO:tensorflow:Finished initializing TPU system.\n"
          ],
          "name": "stdout"
        },
        {
          "output_type": "stream",
          "text": [
            "INFO:tensorflow:Finished initializing TPU system.\n"
          ],
          "name": "stderr"
        },
        {
          "output_type": "stream",
          "text": [
            "🚀 Starting kfold iteration: 3/9\n"
          ],
          "name": "stdout"
        },
        {
          "output_type": "stream",
          "text": [
            "WARNING:transformers.modeling_tf_pytorch_utils:All PyTorch model weights were used when initializing TFBertModel.\n",
            "\n",
            "WARNING:transformers.modeling_tf_pytorch_utils:Some weights or buffers of the PyTorch model TFBertModel were not initialized from the TF 2.0 model and are newly initialized: ['cls.predictions.decoder.weight', 'cls.predictions.bias', 'cls.predictions.transform.dense.weight', 'cls.predictions.transform.dense.bias', 'cls.predictions.transform.LayerNorm.bias', 'cls.predictions.transform.LayerNorm.weight']\n",
            "You should probably TRAIN this model on a down-stream task to be able to use it for predictions and inference.\n"
          ],
          "name": "stderr"
        },
        {
          "output_type": "stream",
          "text": [
            "Model: \"model_5\"\n",
            "_________________________________________________________________\n",
            "Layer (type)                 Output Shape              Param #   \n",
            "=================================================================\n",
            "input_6 (InputLayer)         [(None, 30)]              0         \n",
            "_________________________________________________________________\n",
            "tf_bert_model_5 (TFBertModel ((None, 30, 768), (None,  109850880 \n",
            "_________________________________________________________________\n",
            "tf_op_layer_strided_slice_5  [(None, 768)]             0         \n",
            "_________________________________________________________________\n",
            "dropout_227 (Dropout)        (None, 768)               0         \n",
            "_________________________________________________________________\n",
            "dense_5 (Dense)              (None, 352)               270688    \n",
            "=================================================================\n",
            "Total params: 110,121,568\n",
            "Trainable params: 110,121,568\n",
            "Non-trainable params: 0\n",
            "_________________________________________________________________\n",
            "Epoch 1/150\n",
            "WARNING:tensorflow:Gradients do not exist for variables ['tf_bert_model_5/bert/pooler/dense/kernel:0', 'tf_bert_model_5/bert/pooler/dense/bias:0'] when minimizing the loss.\n"
          ],
          "name": "stdout"
        },
        {
          "output_type": "stream",
          "text": [
            "WARNING:tensorflow:Gradients do not exist for variables ['tf_bert_model_5/bert/pooler/dense/kernel:0', 'tf_bert_model_5/bert/pooler/dense/bias:0'] when minimizing the loss.\n"
          ],
          "name": "stderr"
        },
        {
          "output_type": "stream",
          "text": [
            "WARNING:tensorflow:Gradients do not exist for variables ['tf_bert_model_5/bert/pooler/dense/kernel:0', 'tf_bert_model_5/bert/pooler/dense/bias:0'] when minimizing the loss.\n"
          ],
          "name": "stdout"
        },
        {
          "output_type": "stream",
          "text": [
            "WARNING:tensorflow:Gradients do not exist for variables ['tf_bert_model_5/bert/pooler/dense/kernel:0', 'tf_bert_model_5/bert/pooler/dense/bias:0'] when minimizing the loss.\n"
          ],
          "name": "stderr"
        },
        {
          "output_type": "stream",
          "text": [
            "WARNING:tensorflow:Gradients do not exist for variables ['tf_bert_model_5/bert/pooler/dense/kernel:0', 'tf_bert_model_5/bert/pooler/dense/bias:0'] when minimizing the loss.\n"
          ],
          "name": "stdout"
        },
        {
          "output_type": "stream",
          "text": [
            "WARNING:tensorflow:Gradients do not exist for variables ['tf_bert_model_5/bert/pooler/dense/kernel:0', 'tf_bert_model_5/bert/pooler/dense/bias:0'] when minimizing the loss.\n"
          ],
          "name": "stderr"
        },
        {
          "output_type": "stream",
          "text": [
            "WARNING:tensorflow:Gradients do not exist for variables ['tf_bert_model_5/bert/pooler/dense/kernel:0', 'tf_bert_model_5/bert/pooler/dense/bias:0'] when minimizing the loss.\n"
          ],
          "name": "stdout"
        },
        {
          "output_type": "stream",
          "text": [
            "WARNING:tensorflow:Gradients do not exist for variables ['tf_bert_model_5/bert/pooler/dense/kernel:0', 'tf_bert_model_5/bert/pooler/dense/bias:0'] when minimizing the loss.\n"
          ],
          "name": "stderr"
        },
        {
          "output_type": "stream",
          "text": [
            "283/283 [==============================] - 52s 183ms/step - acc: 0.0091 - loss: 5.8679 - val_acc: 0.0950 - val_loss: 4.8466\n",
            "Epoch 2/150\n",
            "283/283 [==============================] - 24s 85ms/step - acc: 0.1816 - loss: 3.6429 - val_acc: 0.3904 - val_loss: 2.7746\n",
            "Epoch 3/150\n",
            "283/283 [==============================] - 24s 86ms/step - acc: 0.4546 - loss: 1.7683 - val_acc: 0.5952 - val_loss: 1.7414\n",
            "Epoch 4/150\n",
            "283/283 [==============================] - 24s 86ms/step - acc: 0.6392 - loss: 0.9519 - val_acc: 0.6982 - val_loss: 1.2665\n",
            "Epoch 5/150\n",
            "283/283 [==============================] - 24s 86ms/step - acc: 0.7581 - loss: 0.5531 - val_acc: 0.7419 - val_loss: 1.0172\n",
            "Epoch 6/150\n",
            "283/283 [==============================] - 24s 86ms/step - acc: 0.8268 - loss: 0.3635 - val_acc: 0.7817 - val_loss: 0.8607\n",
            "Epoch 7/150\n",
            "283/283 [==============================] - 24s 85ms/step - acc: 0.8789 - loss: 0.2268 - val_acc: 0.8006 - val_loss: 0.7779\n",
            "Epoch 8/150\n",
            "283/283 [==============================] - 25s 87ms/step - acc: 0.9126 - loss: 0.1560 - val_acc: 0.8230 - val_loss: 0.6997\n",
            "Epoch 9/150\n",
            "283/283 [==============================] - 25s 88ms/step - acc: 0.9373 - loss: 0.1083 - val_acc: 0.8354 - val_loss: 0.6565\n",
            "Epoch 10/150\n",
            "283/283 [==============================] - 24s 86ms/step - acc: 0.9482 - loss: 0.0849 - val_acc: 0.8444 - val_loss: 0.6190\n",
            "Epoch 11/150\n",
            "283/283 [==============================] - 25s 87ms/step - acc: 0.9616 - loss: 0.0637 - val_acc: 0.8568 - val_loss: 0.6032\n",
            "Epoch 12/150\n",
            "283/283 [==============================] - 24s 86ms/step - acc: 0.9738 - loss: 0.0478 - val_acc: 0.8603 - val_loss: 0.6032\n",
            "Epoch 13/150\n",
            "283/283 [==============================] - 23s 83ms/step - acc: 0.9762 - loss: 0.0503 - val_acc: 0.8598 - val_loss: 0.6012\n",
            "Epoch 14/150\n",
            "283/283 [==============================] - 23s 83ms/step - acc: 0.9733 - loss: 0.0542 - val_acc: 0.8478 - val_loss: 0.6282\n",
            "Epoch 15/150\n",
            "283/283 [==============================] - 24s 86ms/step - acc: 0.9759 - loss: 0.0572 - val_acc: 0.8603 - val_loss: 0.6071\n",
            "Epoch 16/150\n",
            "283/283 [==============================] - 24s 85ms/step - acc: 0.9726 - loss: 0.0572 - val_acc: 0.8647 - val_loss: 0.5991\n",
            "Epoch 17/150\n",
            "283/283 [==============================] - 24s 85ms/step - acc: 0.9791 - loss: 0.0541 - val_acc: 0.8667 - val_loss: 0.6414\n",
            "Epoch 18/150\n",
            "283/283 [==============================] - 24s 85ms/step - acc: 0.9813 - loss: 0.0456 - val_acc: 0.8772 - val_loss: 0.5884\n",
            "Epoch 19/150\n",
            "283/283 [==============================] - 24s 84ms/step - acc: 0.9840 - loss: 0.0365 - val_acc: 0.8687 - val_loss: 0.6208\n",
            "Epoch 20/150\n",
            "283/283 [==============================] - 23s 81ms/step - acc: 0.9849 - loss: 0.0396 - val_acc: 0.8717 - val_loss: 0.6248\n",
            "Epoch 21/150\n",
            "283/283 [==============================] - 23s 82ms/step - acc: 0.9759 - loss: 0.0667 - val_acc: 0.8598 - val_loss: 0.6644\n",
            "Epoch 22/150\n",
            "283/283 [==============================] - 23s 81ms/step - acc: 0.9736 - loss: 0.0673 - val_acc: 0.8603 - val_loss: 0.6685\n",
            "Epoch 23/150\n",
            "283/283 [==============================] - 24s 87ms/step - acc: 0.9834 - loss: 0.0448 - val_acc: 0.8782 - val_loss: 0.5841\n",
            "Epoch 24/150\n",
            "283/283 [==============================] - 24s 86ms/step - acc: 0.9903 - loss: 0.0220 - val_acc: 0.8826 - val_loss: 0.5920\n",
            "Epoch 25/150\n",
            "283/283 [==============================] - 24s 86ms/step - acc: 0.9935 - loss: 0.0136 - val_acc: 0.8856 - val_loss: 0.5737\n",
            "Epoch 26/150\n",
            "283/283 [==============================] - 25s 88ms/step - acc: 0.9966 - loss: 0.0089 - val_acc: 0.8861 - val_loss: 0.5883\n",
            "Epoch 27/150\n",
            "283/283 [==============================] - 24s 84ms/step - acc: 0.9961 - loss: 0.0104 - val_acc: 0.8732 - val_loss: 0.6472\n",
            "Epoch 28/150\n",
            "283/283 [==============================] - 23s 82ms/step - acc: 0.9893 - loss: 0.0285 - val_acc: 0.8687 - val_loss: 0.6555\n",
            "Epoch 29/150\n",
            "283/283 [==============================] - 23s 82ms/step - acc: 0.9778 - loss: 0.0520 - val_acc: 0.8637 - val_loss: 0.6489\n",
            "Epoch 30/150\n",
            "283/283 [==============================] - 23s 83ms/step - acc: 0.9841 - loss: 0.0356 - val_acc: 0.8797 - val_loss: 0.6282\n",
            "Epoch 31/150\n",
            "283/283 [==============================] - ETA: 0s - acc: 0.9817 - loss: 0.0506Restoring model weights from the end of the best epoch.\n",
            "283/283 [==============================] - 26s 93ms/step - acc: 0.9817 - loss: 0.0506 - val_acc: 0.8707 - val_loss: 0.6370\n",
            "Epoch 00031: early stopping\n",
            "Balanced Acc for: \n",
            "\n",
            "########## Balanced Acc: 0.83338617 ##########\n",
            "\n",
            "WARNING:tensorflow:TPU system grpc://10.14.42.210:8470 has already been initialized. Reinitializing the TPU can cause previously created variables on TPU to be lost.\n"
          ],
          "name": "stdout"
        },
        {
          "output_type": "stream",
          "text": [
            "WARNING:tensorflow:TPU system grpc://10.14.42.210:8470 has already been initialized. Reinitializing the TPU can cause previously created variables on TPU to be lost.\n"
          ],
          "name": "stderr"
        },
        {
          "output_type": "stream",
          "text": [
            "INFO:tensorflow:Initializing the TPU system: grpc://10.14.42.210:8470\n"
          ],
          "name": "stdout"
        },
        {
          "output_type": "stream",
          "text": [
            "INFO:tensorflow:Initializing the TPU system: grpc://10.14.42.210:8470\n"
          ],
          "name": "stderr"
        },
        {
          "output_type": "stream",
          "text": [
            "INFO:tensorflow:Clearing out eager caches\n"
          ],
          "name": "stdout"
        },
        {
          "output_type": "stream",
          "text": [
            "INFO:tensorflow:Clearing out eager caches\n"
          ],
          "name": "stderr"
        },
        {
          "output_type": "stream",
          "text": [
            "INFO:tensorflow:Finished initializing TPU system.\n"
          ],
          "name": "stdout"
        },
        {
          "output_type": "stream",
          "text": [
            "INFO:tensorflow:Finished initializing TPU system.\n"
          ],
          "name": "stderr"
        },
        {
          "output_type": "stream",
          "text": [
            "🚀 Starting kfold iteration: 4/9\n"
          ],
          "name": "stdout"
        },
        {
          "output_type": "stream",
          "text": [
            "WARNING:transformers.modeling_tf_pytorch_utils:All PyTorch model weights were used when initializing TFBertModel.\n",
            "\n",
            "WARNING:transformers.modeling_tf_pytorch_utils:Some weights or buffers of the PyTorch model TFBertModel were not initialized from the TF 2.0 model and are newly initialized: ['cls.predictions.decoder.weight', 'cls.predictions.bias', 'cls.predictions.transform.dense.weight', 'cls.predictions.transform.dense.bias', 'cls.predictions.transform.LayerNorm.bias', 'cls.predictions.transform.LayerNorm.weight']\n",
            "You should probably TRAIN this model on a down-stream task to be able to use it for predictions and inference.\n"
          ],
          "name": "stderr"
        },
        {
          "output_type": "stream",
          "text": [
            "Model: \"model_6\"\n",
            "_________________________________________________________________\n",
            "Layer (type)                 Output Shape              Param #   \n",
            "=================================================================\n",
            "input_7 (InputLayer)         [(None, 30)]              0         \n",
            "_________________________________________________________________\n",
            "tf_bert_model_6 (TFBertModel ((None, 30, 768), (None,  109850880 \n",
            "_________________________________________________________________\n",
            "tf_op_layer_strided_slice_6  [(None, 768)]             0         \n",
            "_________________________________________________________________\n",
            "dropout_265 (Dropout)        (None, 768)               0         \n",
            "_________________________________________________________________\n",
            "dense_6 (Dense)              (None, 352)               270688    \n",
            "=================================================================\n",
            "Total params: 110,121,568\n",
            "Trainable params: 110,121,568\n",
            "Non-trainable params: 0\n",
            "_________________________________________________________________\n",
            "Epoch 1/150\n",
            "WARNING:tensorflow:Gradients do not exist for variables ['tf_bert_model_6/bert/pooler/dense/kernel:0', 'tf_bert_model_6/bert/pooler/dense/bias:0'] when minimizing the loss.\n"
          ],
          "name": "stdout"
        },
        {
          "output_type": "stream",
          "text": [
            "WARNING:tensorflow:Gradients do not exist for variables ['tf_bert_model_6/bert/pooler/dense/kernel:0', 'tf_bert_model_6/bert/pooler/dense/bias:0'] when minimizing the loss.\n"
          ],
          "name": "stderr"
        },
        {
          "output_type": "stream",
          "text": [
            "WARNING:tensorflow:Gradients do not exist for variables ['tf_bert_model_6/bert/pooler/dense/kernel:0', 'tf_bert_model_6/bert/pooler/dense/bias:0'] when minimizing the loss.\n"
          ],
          "name": "stdout"
        },
        {
          "output_type": "stream",
          "text": [
            "WARNING:tensorflow:Gradients do not exist for variables ['tf_bert_model_6/bert/pooler/dense/kernel:0', 'tf_bert_model_6/bert/pooler/dense/bias:0'] when minimizing the loss.\n"
          ],
          "name": "stderr"
        },
        {
          "output_type": "stream",
          "text": [
            "WARNING:tensorflow:Gradients do not exist for variables ['tf_bert_model_6/bert/pooler/dense/kernel:0', 'tf_bert_model_6/bert/pooler/dense/bias:0'] when minimizing the loss.\n"
          ],
          "name": "stdout"
        },
        {
          "output_type": "stream",
          "text": [
            "WARNING:tensorflow:Gradients do not exist for variables ['tf_bert_model_6/bert/pooler/dense/kernel:0', 'tf_bert_model_6/bert/pooler/dense/bias:0'] when minimizing the loss.\n"
          ],
          "name": "stderr"
        },
        {
          "output_type": "stream",
          "text": [
            "WARNING:tensorflow:Gradients do not exist for variables ['tf_bert_model_6/bert/pooler/dense/kernel:0', 'tf_bert_model_6/bert/pooler/dense/bias:0'] when minimizing the loss.\n"
          ],
          "name": "stdout"
        },
        {
          "output_type": "stream",
          "text": [
            "WARNING:tensorflow:Gradients do not exist for variables ['tf_bert_model_6/bert/pooler/dense/kernel:0', 'tf_bert_model_6/bert/pooler/dense/bias:0'] when minimizing the loss.\n"
          ],
          "name": "stderr"
        },
        {
          "output_type": "stream",
          "text": [
            "283/283 [==============================] - 53s 187ms/step - acc: 0.0049 - loss: 6.0497 - val_acc: 0.0209 - val_loss: 5.4730\n",
            "Epoch 2/150\n",
            "283/283 [==============================] - 25s 87ms/step - acc: 0.1066 - loss: 4.3450 - val_acc: 0.3237 - val_loss: 3.2140\n",
            "Epoch 3/150\n",
            "283/283 [==============================] - 26s 91ms/step - acc: 0.4091 - loss: 2.0561 - val_acc: 0.5520 - val_loss: 1.9294\n",
            "Epoch 4/150\n",
            "283/283 [==============================] - 25s 88ms/step - acc: 0.6104 - loss: 1.0619 - val_acc: 0.6768 - val_loss: 1.3395\n",
            "Epoch 5/150\n",
            "283/283 [==============================] - 25s 87ms/step - acc: 0.7274 - loss: 0.6366 - val_acc: 0.7315 - val_loss: 1.0546\n",
            "Epoch 6/150\n",
            "283/283 [==============================] - 24s 85ms/step - acc: 0.8105 - loss: 0.3904 - val_acc: 0.7703 - val_loss: 0.8905\n",
            "Epoch 7/150\n",
            "283/283 [==============================] - 24s 86ms/step - acc: 0.8673 - loss: 0.2662 - val_acc: 0.7872 - val_loss: 0.8089\n",
            "Epoch 8/150\n",
            "283/283 [==============================] - 24s 85ms/step - acc: 0.9007 - loss: 0.1819 - val_acc: 0.8155 - val_loss: 0.7342\n",
            "Epoch 9/150\n",
            "283/283 [==============================] - 24s 85ms/step - acc: 0.9237 - loss: 0.1316 - val_acc: 0.8255 - val_loss: 0.6768\n",
            "Epoch 10/150\n",
            "283/283 [==============================] - 24s 86ms/step - acc: 0.9421 - loss: 0.1068 - val_acc: 0.8299 - val_loss: 0.6657\n",
            "Epoch 11/150\n",
            "283/283 [==============================] - 24s 86ms/step - acc: 0.9585 - loss: 0.0735 - val_acc: 0.8463 - val_loss: 0.6387\n",
            "Epoch 12/150\n",
            "283/283 [==============================] - 24s 86ms/step - acc: 0.9637 - loss: 0.0636 - val_acc: 0.8483 - val_loss: 0.6325\n",
            "Epoch 13/150\n",
            "283/283 [==============================] - 24s 86ms/step - acc: 0.9684 - loss: 0.0540 - val_acc: 0.8563 - val_loss: 0.6309\n",
            "Epoch 14/150\n",
            "283/283 [==============================] - 23s 81ms/step - acc: 0.9786 - loss: 0.0412 - val_acc: 0.8563 - val_loss: 0.6321\n",
            "Epoch 15/150\n",
            "283/283 [==============================] - 23s 80ms/step - acc: 0.9815 - loss: 0.0350 - val_acc: 0.8528 - val_loss: 0.6445\n",
            "Epoch 16/150\n",
            "283/283 [==============================] - 25s 88ms/step - acc: 0.9744 - loss: 0.0643 - val_acc: 0.8618 - val_loss: 0.6452\n",
            "Epoch 17/150\n",
            "283/283 [==============================] - 23s 82ms/step - acc: 0.9715 - loss: 0.0675 - val_acc: 0.8558 - val_loss: 0.6989\n",
            "Epoch 18/150\n",
            "283/283 [==============================] - 23s 82ms/step - acc: 0.9765 - loss: 0.0484 - val_acc: 0.8613 - val_loss: 0.6532\n",
            "Epoch 19/150\n",
            "283/283 [==============================] - 25s 87ms/step - acc: 0.9839 - loss: 0.0429 - val_acc: 0.8672 - val_loss: 0.6267\n",
            "Epoch 20/150\n",
            "283/283 [==============================] - 23s 82ms/step - acc: 0.9871 - loss: 0.0298 - val_acc: 0.8642 - val_loss: 0.6579\n",
            "Epoch 21/150\n",
            "283/283 [==============================] - 23s 83ms/step - acc: 0.9809 - loss: 0.0491 - val_acc: 0.8473 - val_loss: 0.7130\n",
            "Epoch 22/150\n",
            "283/283 [==============================] - 24s 85ms/step - acc: 0.9820 - loss: 0.0507 - val_acc: 0.8608 - val_loss: 0.6826\n",
            "Epoch 23/150\n",
            "283/283 [==============================] - 25s 87ms/step - acc: 0.9808 - loss: 0.0554 - val_acc: 0.8677 - val_loss: 0.6614\n",
            "Epoch 24/150\n",
            "283/283 [==============================] - 23s 81ms/step - acc: 0.9853 - loss: 0.0409 - val_acc: 0.8349 - val_loss: 0.8727\n",
            "Epoch 25/150\n",
            "283/283 [==============================] - 26s 90ms/step - acc: 0.9798 - loss: 0.0549 - val_acc: 0.8633 - val_loss: 0.6760\n",
            "Epoch 26/150\n",
            "283/283 [==============================] - 24s 86ms/step - acc: 0.9898 - loss: 0.0219 - val_acc: 0.8747 - val_loss: 0.6390\n",
            "Epoch 27/150\n",
            "283/283 [==============================] - 25s 88ms/step - acc: 0.9922 - loss: 0.0153 - val_acc: 0.8817 - val_loss: 0.6234\n",
            "Epoch 28/150\n",
            "283/283 [==============================] - 24s 84ms/step - acc: 0.9957 - loss: 0.0090 - val_acc: 0.8787 - val_loss: 0.6489\n",
            "Epoch 29/150\n",
            "283/283 [==============================] - 24s 83ms/step - acc: 0.9956 - loss: 0.0117 - val_acc: 0.8682 - val_loss: 0.6858\n",
            "Epoch 30/150\n",
            "283/283 [==============================] - 23s 82ms/step - acc: 0.9941 - loss: 0.0096 - val_acc: 0.8707 - val_loss: 0.6674\n",
            "Epoch 31/150\n",
            "283/283 [==============================] - 23s 82ms/step - acc: 0.9797 - loss: 0.0769 - val_acc: 0.8458 - val_loss: 0.7353\n",
            "Epoch 32/150\n",
            "283/283 [==============================] - ETA: 0s - acc: 0.9726 - loss: 0.0707Restoring model weights from the end of the best epoch.\n",
            "283/283 [==============================] - 26s 92ms/step - acc: 0.9726 - loss: 0.0707 - val_acc: 0.8578 - val_loss: 0.7295\n",
            "Epoch 00032: early stopping\n",
            "Balanced Acc for: \n",
            "\n",
            "########## Balanced Acc: 0.82236917 ##########\n",
            "\n",
            "WARNING:tensorflow:TPU system grpc://10.14.42.210:8470 has already been initialized. Reinitializing the TPU can cause previously created variables on TPU to be lost.\n"
          ],
          "name": "stdout"
        },
        {
          "output_type": "stream",
          "text": [
            "WARNING:tensorflow:TPU system grpc://10.14.42.210:8470 has already been initialized. Reinitializing the TPU can cause previously created variables on TPU to be lost.\n"
          ],
          "name": "stderr"
        },
        {
          "output_type": "stream",
          "text": [
            "INFO:tensorflow:Initializing the TPU system: grpc://10.14.42.210:8470\n"
          ],
          "name": "stdout"
        },
        {
          "output_type": "stream",
          "text": [
            "INFO:tensorflow:Initializing the TPU system: grpc://10.14.42.210:8470\n"
          ],
          "name": "stderr"
        },
        {
          "output_type": "stream",
          "text": [
            "INFO:tensorflow:Clearing out eager caches\n"
          ],
          "name": "stdout"
        },
        {
          "output_type": "stream",
          "text": [
            "INFO:tensorflow:Clearing out eager caches\n"
          ],
          "name": "stderr"
        },
        {
          "output_type": "stream",
          "text": [
            "INFO:tensorflow:Finished initializing TPU system.\n"
          ],
          "name": "stdout"
        },
        {
          "output_type": "stream",
          "text": [
            "INFO:tensorflow:Finished initializing TPU system.\n"
          ],
          "name": "stderr"
        },
        {
          "output_type": "stream",
          "text": [
            "🚀 Starting kfold iteration: 5/9\n"
          ],
          "name": "stdout"
        },
        {
          "output_type": "stream",
          "text": [
            "WARNING:transformers.modeling_tf_pytorch_utils:All PyTorch model weights were used when initializing TFBertModel.\n",
            "\n",
            "WARNING:transformers.modeling_tf_pytorch_utils:Some weights or buffers of the PyTorch model TFBertModel were not initialized from the TF 2.0 model and are newly initialized: ['cls.predictions.decoder.weight', 'cls.predictions.bias', 'cls.predictions.transform.dense.weight', 'cls.predictions.transform.dense.bias', 'cls.predictions.transform.LayerNorm.bias', 'cls.predictions.transform.LayerNorm.weight']\n",
            "You should probably TRAIN this model on a down-stream task to be able to use it for predictions and inference.\n"
          ],
          "name": "stderr"
        },
        {
          "output_type": "stream",
          "text": [
            "Model: \"model_7\"\n",
            "_________________________________________________________________\n",
            "Layer (type)                 Output Shape              Param #   \n",
            "=================================================================\n",
            "input_8 (InputLayer)         [(None, 30)]              0         \n",
            "_________________________________________________________________\n",
            "tf_bert_model_7 (TFBertModel ((None, 30, 768), (None,  109850880 \n",
            "_________________________________________________________________\n",
            "tf_op_layer_strided_slice_7  [(None, 768)]             0         \n",
            "_________________________________________________________________\n",
            "dropout_303 (Dropout)        (None, 768)               0         \n",
            "_________________________________________________________________\n",
            "dense_7 (Dense)              (None, 352)               270688    \n",
            "=================================================================\n",
            "Total params: 110,121,568\n",
            "Trainable params: 110,121,568\n",
            "Non-trainable params: 0\n",
            "_________________________________________________________________\n",
            "Epoch 1/150\n",
            "WARNING:tensorflow:Gradients do not exist for variables ['tf_bert_model_7/bert/pooler/dense/kernel:0', 'tf_bert_model_7/bert/pooler/dense/bias:0'] when minimizing the loss.\n"
          ],
          "name": "stdout"
        },
        {
          "output_type": "stream",
          "text": [
            "WARNING:tensorflow:Gradients do not exist for variables ['tf_bert_model_7/bert/pooler/dense/kernel:0', 'tf_bert_model_7/bert/pooler/dense/bias:0'] when minimizing the loss.\n"
          ],
          "name": "stderr"
        },
        {
          "output_type": "stream",
          "text": [
            "WARNING:tensorflow:Gradients do not exist for variables ['tf_bert_model_7/bert/pooler/dense/kernel:0', 'tf_bert_model_7/bert/pooler/dense/bias:0'] when minimizing the loss.\n"
          ],
          "name": "stdout"
        },
        {
          "output_type": "stream",
          "text": [
            "WARNING:tensorflow:Gradients do not exist for variables ['tf_bert_model_7/bert/pooler/dense/kernel:0', 'tf_bert_model_7/bert/pooler/dense/bias:0'] when minimizing the loss.\n"
          ],
          "name": "stderr"
        },
        {
          "output_type": "stream",
          "text": [
            "WARNING:tensorflow:Gradients do not exist for variables ['tf_bert_model_7/bert/pooler/dense/kernel:0', 'tf_bert_model_7/bert/pooler/dense/bias:0'] when minimizing the loss.\n"
          ],
          "name": "stdout"
        },
        {
          "output_type": "stream",
          "text": [
            "WARNING:tensorflow:Gradients do not exist for variables ['tf_bert_model_7/bert/pooler/dense/kernel:0', 'tf_bert_model_7/bert/pooler/dense/bias:0'] when minimizing the loss.\n"
          ],
          "name": "stderr"
        },
        {
          "output_type": "stream",
          "text": [
            "WARNING:tensorflow:Gradients do not exist for variables ['tf_bert_model_7/bert/pooler/dense/kernel:0', 'tf_bert_model_7/bert/pooler/dense/bias:0'] when minimizing the loss.\n"
          ],
          "name": "stdout"
        },
        {
          "output_type": "stream",
          "text": [
            "WARNING:tensorflow:Gradients do not exist for variables ['tf_bert_model_7/bert/pooler/dense/kernel:0', 'tf_bert_model_7/bert/pooler/dense/bias:0'] when minimizing the loss.\n"
          ],
          "name": "stderr"
        },
        {
          "output_type": "stream",
          "text": [
            "283/283 [==============================] - 53s 186ms/step - acc: 0.0032 - loss: 6.0375 - val_acc: 0.0159 - val_loss: 5.4171\n",
            "Epoch 2/150\n",
            "283/283 [==============================] - 24s 85ms/step - acc: 0.1062 - loss: 4.3549 - val_acc: 0.3232 - val_loss: 3.2196\n",
            "Epoch 3/150\n",
            "283/283 [==============================] - 24s 86ms/step - acc: 0.3950 - loss: 2.0834 - val_acc: 0.5545 - val_loss: 1.9512\n",
            "Epoch 4/150\n",
            "283/283 [==============================] - 25s 88ms/step - acc: 0.6072 - loss: 1.0948 - val_acc: 0.6663 - val_loss: 1.3683\n",
            "Epoch 5/150\n",
            "283/283 [==============================] - 24s 85ms/step - acc: 0.7270 - loss: 0.6495 - val_acc: 0.7350 - val_loss: 1.0675\n",
            "Epoch 6/150\n",
            "283/283 [==============================] - 24s 84ms/step - acc: 0.8068 - loss: 0.4088 - val_acc: 0.7867 - val_loss: 0.8740\n",
            "Epoch 7/150\n",
            "283/283 [==============================] - 25s 88ms/step - acc: 0.8610 - loss: 0.2682 - val_acc: 0.7902 - val_loss: 0.7982\n",
            "Epoch 8/150\n",
            "283/283 [==============================] - 24s 86ms/step - acc: 0.9001 - loss: 0.1792 - val_acc: 0.8294 - val_loss: 0.6667\n",
            "Epoch 9/150\n",
            "283/283 [==============================] - 24s 86ms/step - acc: 0.9255 - loss: 0.1208 - val_acc: 0.8364 - val_loss: 0.6387\n",
            "Epoch 10/150\n",
            "283/283 [==============================] - 24s 86ms/step - acc: 0.9435 - loss: 0.0940 - val_acc: 0.8478 - val_loss: 0.6319\n",
            "Epoch 11/150\n",
            "283/283 [==============================] - 24s 86ms/step - acc: 0.9521 - loss: 0.0827 - val_acc: 0.8568 - val_loss: 0.5973\n",
            "Epoch 12/150\n",
            "283/283 [==============================] - 24s 85ms/step - acc: 0.9663 - loss: 0.0604 - val_acc: 0.8633 - val_loss: 0.5755\n",
            "Epoch 13/150\n",
            "283/283 [==============================] - 24s 85ms/step - acc: 0.9716 - loss: 0.0514 - val_acc: 0.8657 - val_loss: 0.5635\n",
            "Epoch 14/150\n",
            "283/283 [==============================] - 23s 80ms/step - acc: 0.9731 - loss: 0.0526 - val_acc: 0.8583 - val_loss: 0.5912\n",
            "Epoch 15/150\n",
            "283/283 [==============================] - 24s 85ms/step - acc: 0.9800 - loss: 0.0400 - val_acc: 0.8732 - val_loss: 0.5639\n",
            "Epoch 16/150\n",
            "283/283 [==============================] - 23s 81ms/step - acc: 0.9836 - loss: 0.0322 - val_acc: 0.8722 - val_loss: 0.5657\n",
            "Epoch 17/150\n",
            "283/283 [==============================] - 23s 81ms/step - acc: 0.9851 - loss: 0.0304 - val_acc: 0.8657 - val_loss: 0.6069\n",
            "Epoch 18/150\n",
            "283/283 [==============================] - 23s 81ms/step - acc: 0.9797 - loss: 0.0477 - val_acc: 0.8647 - val_loss: 0.6150\n",
            "Epoch 19/150\n",
            "283/283 [==============================] - 23s 81ms/step - acc: 0.9826 - loss: 0.0400 - val_acc: 0.8732 - val_loss: 0.5699\n",
            "Epoch 20/150\n",
            "283/283 [==============================] - ETA: 0s - acc: 0.9883 - loss: 0.0286Restoring model weights from the end of the best epoch.\n",
            "283/283 [==============================] - 26s 91ms/step - acc: 0.9883 - loss: 0.0286 - val_acc: 0.8732 - val_loss: 0.5768\n",
            "Epoch 00020: early stopping\n",
            "Balanced Acc for: \n",
            "\n",
            "########## Balanced Acc: 0.84501247 ##########\n",
            "\n",
            "WARNING:tensorflow:TPU system grpc://10.14.42.210:8470 has already been initialized. Reinitializing the TPU can cause previously created variables on TPU to be lost.\n"
          ],
          "name": "stdout"
        },
        {
          "output_type": "stream",
          "text": [
            "WARNING:tensorflow:TPU system grpc://10.14.42.210:8470 has already been initialized. Reinitializing the TPU can cause previously created variables on TPU to be lost.\n"
          ],
          "name": "stderr"
        },
        {
          "output_type": "stream",
          "text": [
            "INFO:tensorflow:Initializing the TPU system: grpc://10.14.42.210:8470\n"
          ],
          "name": "stdout"
        },
        {
          "output_type": "stream",
          "text": [
            "INFO:tensorflow:Initializing the TPU system: grpc://10.14.42.210:8470\n"
          ],
          "name": "stderr"
        },
        {
          "output_type": "stream",
          "text": [
            "INFO:tensorflow:Clearing out eager caches\n"
          ],
          "name": "stdout"
        },
        {
          "output_type": "stream",
          "text": [
            "INFO:tensorflow:Clearing out eager caches\n"
          ],
          "name": "stderr"
        },
        {
          "output_type": "stream",
          "text": [
            "INFO:tensorflow:Finished initializing TPU system.\n"
          ],
          "name": "stdout"
        },
        {
          "output_type": "stream",
          "text": [
            "INFO:tensorflow:Finished initializing TPU system.\n"
          ],
          "name": "stderr"
        },
        {
          "output_type": "stream",
          "text": [
            "🚀 Starting kfold iteration: 6/9\n"
          ],
          "name": "stdout"
        },
        {
          "output_type": "stream",
          "text": [
            "WARNING:transformers.modeling_tf_pytorch_utils:All PyTorch model weights were used when initializing TFBertModel.\n",
            "\n",
            "WARNING:transformers.modeling_tf_pytorch_utils:Some weights or buffers of the PyTorch model TFBertModel were not initialized from the TF 2.0 model and are newly initialized: ['cls.predictions.decoder.weight', 'cls.predictions.bias', 'cls.predictions.transform.dense.weight', 'cls.predictions.transform.dense.bias', 'cls.predictions.transform.LayerNorm.bias', 'cls.predictions.transform.LayerNorm.weight']\n",
            "You should probably TRAIN this model on a down-stream task to be able to use it for predictions and inference.\n"
          ],
          "name": "stderr"
        },
        {
          "output_type": "stream",
          "text": [
            "Model: \"model_8\"\n",
            "_________________________________________________________________\n",
            "Layer (type)                 Output Shape              Param #   \n",
            "=================================================================\n",
            "input_9 (InputLayer)         [(None, 30)]              0         \n",
            "_________________________________________________________________\n",
            "tf_bert_model_8 (TFBertModel ((None, 30, 768), (None,  109850880 \n",
            "_________________________________________________________________\n",
            "tf_op_layer_strided_slice_8  [(None, 768)]             0         \n",
            "_________________________________________________________________\n",
            "dropout_341 (Dropout)        (None, 768)               0         \n",
            "_________________________________________________________________\n",
            "dense_8 (Dense)              (None, 352)               270688    \n",
            "=================================================================\n",
            "Total params: 110,121,568\n",
            "Trainable params: 110,121,568\n",
            "Non-trainable params: 0\n",
            "_________________________________________________________________\n",
            "Epoch 1/150\n",
            "WARNING:tensorflow:Gradients do not exist for variables ['tf_bert_model_8/bert/pooler/dense/kernel:0', 'tf_bert_model_8/bert/pooler/dense/bias:0'] when minimizing the loss.\n"
          ],
          "name": "stdout"
        },
        {
          "output_type": "stream",
          "text": [
            "WARNING:tensorflow:Gradients do not exist for variables ['tf_bert_model_8/bert/pooler/dense/kernel:0', 'tf_bert_model_8/bert/pooler/dense/bias:0'] when minimizing the loss.\n"
          ],
          "name": "stderr"
        },
        {
          "output_type": "stream",
          "text": [
            "WARNING:tensorflow:Gradients do not exist for variables ['tf_bert_model_8/bert/pooler/dense/kernel:0', 'tf_bert_model_8/bert/pooler/dense/bias:0'] when minimizing the loss.\n"
          ],
          "name": "stdout"
        },
        {
          "output_type": "stream",
          "text": [
            "WARNING:tensorflow:Gradients do not exist for variables ['tf_bert_model_8/bert/pooler/dense/kernel:0', 'tf_bert_model_8/bert/pooler/dense/bias:0'] when minimizing the loss.\n"
          ],
          "name": "stderr"
        },
        {
          "output_type": "stream",
          "text": [
            "WARNING:tensorflow:Gradients do not exist for variables ['tf_bert_model_8/bert/pooler/dense/kernel:0', 'tf_bert_model_8/bert/pooler/dense/bias:0'] when minimizing the loss.\n"
          ],
          "name": "stdout"
        },
        {
          "output_type": "stream",
          "text": [
            "WARNING:tensorflow:Gradients do not exist for variables ['tf_bert_model_8/bert/pooler/dense/kernel:0', 'tf_bert_model_8/bert/pooler/dense/bias:0'] when minimizing the loss.\n"
          ],
          "name": "stderr"
        },
        {
          "output_type": "stream",
          "text": [
            "WARNING:tensorflow:Gradients do not exist for variables ['tf_bert_model_8/bert/pooler/dense/kernel:0', 'tf_bert_model_8/bert/pooler/dense/bias:0'] when minimizing the loss.\n"
          ],
          "name": "stdout"
        },
        {
          "output_type": "stream",
          "text": [
            "WARNING:tensorflow:Gradients do not exist for variables ['tf_bert_model_8/bert/pooler/dense/kernel:0', 'tf_bert_model_8/bert/pooler/dense/bias:0'] when minimizing the loss.\n"
          ],
          "name": "stderr"
        },
        {
          "output_type": "stream",
          "text": [
            "283/283 [==============================] - 52s 183ms/step - acc: 0.0041 - loss: 6.0290 - val_acc: 0.0273 - val_loss: 5.3540\n",
            "Epoch 2/150\n",
            "283/283 [==============================] - 24s 86ms/step - acc: 0.1179 - loss: 4.2287 - val_acc: 0.3426 - val_loss: 3.0956\n",
            "Epoch 3/150\n",
            "283/283 [==============================] - 25s 87ms/step - acc: 0.3959 - loss: 2.0587 - val_acc: 0.5639 - val_loss: 1.9235\n",
            "Epoch 4/150\n",
            "283/283 [==============================] - 25s 88ms/step - acc: 0.5990 - loss: 1.1198 - val_acc: 0.6534 - val_loss: 1.3872\n",
            "Epoch 5/150\n",
            "283/283 [==============================] - 25s 87ms/step - acc: 0.7220 - loss: 0.6605 - val_acc: 0.7290 - val_loss: 1.0652\n",
            "Epoch 6/150\n",
            "283/283 [==============================] - 25s 88ms/step - acc: 0.8033 - loss: 0.4188 - val_acc: 0.7678 - val_loss: 0.8779\n",
            "Epoch 7/150\n",
            "283/283 [==============================] - 24s 86ms/step - acc: 0.8542 - loss: 0.2838 - val_acc: 0.7877 - val_loss: 0.8003\n",
            "Epoch 8/150\n",
            "283/283 [==============================] - 24s 85ms/step - acc: 0.8943 - loss: 0.1915 - val_acc: 0.8180 - val_loss: 0.7072\n",
            "Epoch 9/150\n",
            "283/283 [==============================] - 25s 87ms/step - acc: 0.9171 - loss: 0.1393 - val_acc: 0.8389 - val_loss: 0.6419\n",
            "Epoch 10/150\n",
            "283/283 [==============================] - 24s 85ms/step - acc: 0.9367 - loss: 0.1086 - val_acc: 0.8483 - val_loss: 0.6166\n",
            "Epoch 11/150\n",
            "283/283 [==============================] - 24s 85ms/step - acc: 0.9513 - loss: 0.0878 - val_acc: 0.8503 - val_loss: 0.6140\n",
            "Epoch 12/150\n",
            "283/283 [==============================] - 24s 86ms/step - acc: 0.9606 - loss: 0.0661 - val_acc: 0.8633 - val_loss: 0.5714\n",
            "Epoch 13/150\n",
            "283/283 [==============================] - 24s 85ms/step - acc: 0.9708 - loss: 0.0499 - val_acc: 0.8667 - val_loss: 0.5689\n",
            "Epoch 14/150\n",
            "283/283 [==============================] - 24s 85ms/step - acc: 0.9733 - loss: 0.0478 - val_acc: 0.8732 - val_loss: 0.5708\n",
            "Epoch 15/150\n",
            "283/283 [==============================] - 24s 85ms/step - acc: 0.9802 - loss: 0.0366 - val_acc: 0.8757 - val_loss: 0.5702\n",
            "Epoch 16/150\n",
            "283/283 [==============================] - 23s 81ms/step - acc: 0.9835 - loss: 0.0329 - val_acc: 0.8707 - val_loss: 0.5847\n",
            "Epoch 17/150\n",
            "283/283 [==============================] - 24s 87ms/step - acc: 0.9813 - loss: 0.0429 - val_acc: 0.8792 - val_loss: 0.5714\n",
            "Epoch 18/150\n",
            "283/283 [==============================] - 23s 82ms/step - acc: 0.9809 - loss: 0.0384 - val_acc: 0.8787 - val_loss: 0.6018\n",
            "Epoch 19/150\n",
            "283/283 [==============================] - 23s 83ms/step - acc: 0.9761 - loss: 0.0530 - val_acc: 0.8608 - val_loss: 0.6461\n",
            "Epoch 20/150\n",
            "283/283 [==============================] - 23s 80ms/step - acc: 0.9802 - loss: 0.0489 - val_acc: 0.8692 - val_loss: 0.6204\n",
            "Epoch 21/150\n",
            "283/283 [==============================] - 23s 80ms/step - acc: 0.9784 - loss: 0.0549 - val_acc: 0.8657 - val_loss: 0.6584\n",
            "Epoch 22/150\n",
            "283/283 [==============================] - ETA: 0s - acc: 0.9839 - loss: 0.0362Restoring model weights from the end of the best epoch.\n",
            "283/283 [==============================] - 25s 89ms/step - acc: 0.9839 - loss: 0.0362 - val_acc: 0.8677 - val_loss: 0.6427\n",
            "Epoch 00022: early stopping\n",
            "Balanced Acc for: \n",
            "\n",
            "########## Balanced Acc: 0.82787120 ##########\n",
            "\n",
            "WARNING:tensorflow:TPU system grpc://10.14.42.210:8470 has already been initialized. Reinitializing the TPU can cause previously created variables on TPU to be lost.\n"
          ],
          "name": "stdout"
        },
        {
          "output_type": "stream",
          "text": [
            "WARNING:tensorflow:TPU system grpc://10.14.42.210:8470 has already been initialized. Reinitializing the TPU can cause previously created variables on TPU to be lost.\n"
          ],
          "name": "stderr"
        },
        {
          "output_type": "stream",
          "text": [
            "INFO:tensorflow:Initializing the TPU system: grpc://10.14.42.210:8470\n"
          ],
          "name": "stdout"
        },
        {
          "output_type": "stream",
          "text": [
            "INFO:tensorflow:Initializing the TPU system: grpc://10.14.42.210:8470\n"
          ],
          "name": "stderr"
        },
        {
          "output_type": "stream",
          "text": [
            "INFO:tensorflow:Clearing out eager caches\n"
          ],
          "name": "stdout"
        },
        {
          "output_type": "stream",
          "text": [
            "INFO:tensorflow:Clearing out eager caches\n"
          ],
          "name": "stderr"
        },
        {
          "output_type": "stream",
          "text": [
            "INFO:tensorflow:Finished initializing TPU system.\n"
          ],
          "name": "stdout"
        },
        {
          "output_type": "stream",
          "text": [
            "INFO:tensorflow:Finished initializing TPU system.\n"
          ],
          "name": "stderr"
        },
        {
          "output_type": "stream",
          "text": [
            "🚀 Starting kfold iteration: 7/9\n"
          ],
          "name": "stdout"
        },
        {
          "output_type": "stream",
          "text": [
            "WARNING:transformers.modeling_tf_pytorch_utils:All PyTorch model weights were used when initializing TFBertModel.\n",
            "\n",
            "WARNING:transformers.modeling_tf_pytorch_utils:Some weights or buffers of the PyTorch model TFBertModel were not initialized from the TF 2.0 model and are newly initialized: ['cls.predictions.decoder.weight', 'cls.predictions.bias', 'cls.predictions.transform.dense.weight', 'cls.predictions.transform.dense.bias', 'cls.predictions.transform.LayerNorm.bias', 'cls.predictions.transform.LayerNorm.weight']\n",
            "You should probably TRAIN this model on a down-stream task to be able to use it for predictions and inference.\n"
          ],
          "name": "stderr"
        },
        {
          "output_type": "stream",
          "text": [
            "Model: \"model_9\"\n",
            "_________________________________________________________________\n",
            "Layer (type)                 Output Shape              Param #   \n",
            "=================================================================\n",
            "input_10 (InputLayer)        [(None, 30)]              0         \n",
            "_________________________________________________________________\n",
            "tf_bert_model_9 (TFBertModel ((None, 30, 768), (None,  109850880 \n",
            "_________________________________________________________________\n",
            "tf_op_layer_strided_slice_9  [(None, 768)]             0         \n",
            "_________________________________________________________________\n",
            "dropout_379 (Dropout)        (None, 768)               0         \n",
            "_________________________________________________________________\n",
            "dense_9 (Dense)              (None, 352)               270688    \n",
            "=================================================================\n",
            "Total params: 110,121,568\n",
            "Trainable params: 110,121,568\n",
            "Non-trainable params: 0\n",
            "_________________________________________________________________\n",
            "Epoch 1/150\n",
            "WARNING:tensorflow:Gradients do not exist for variables ['tf_bert_model_9/bert/pooler/dense/kernel:0', 'tf_bert_model_9/bert/pooler/dense/bias:0'] when minimizing the loss.\n"
          ],
          "name": "stdout"
        },
        {
          "output_type": "stream",
          "text": [
            "WARNING:tensorflow:Gradients do not exist for variables ['tf_bert_model_9/bert/pooler/dense/kernel:0', 'tf_bert_model_9/bert/pooler/dense/bias:0'] when minimizing the loss.\n"
          ],
          "name": "stderr"
        },
        {
          "output_type": "stream",
          "text": [
            "WARNING:tensorflow:Gradients do not exist for variables ['tf_bert_model_9/bert/pooler/dense/kernel:0', 'tf_bert_model_9/bert/pooler/dense/bias:0'] when minimizing the loss.\n"
          ],
          "name": "stdout"
        },
        {
          "output_type": "stream",
          "text": [
            "WARNING:tensorflow:Gradients do not exist for variables ['tf_bert_model_9/bert/pooler/dense/kernel:0', 'tf_bert_model_9/bert/pooler/dense/bias:0'] when minimizing the loss.\n"
          ],
          "name": "stderr"
        },
        {
          "output_type": "stream",
          "text": [
            "WARNING:tensorflow:Gradients do not exist for variables ['tf_bert_model_9/bert/pooler/dense/kernel:0', 'tf_bert_model_9/bert/pooler/dense/bias:0'] when minimizing the loss.\n"
          ],
          "name": "stdout"
        },
        {
          "output_type": "stream",
          "text": [
            "WARNING:tensorflow:Gradients do not exist for variables ['tf_bert_model_9/bert/pooler/dense/kernel:0', 'tf_bert_model_9/bert/pooler/dense/bias:0'] when minimizing the loss.\n"
          ],
          "name": "stderr"
        },
        {
          "output_type": "stream",
          "text": [
            "WARNING:tensorflow:Gradients do not exist for variables ['tf_bert_model_9/bert/pooler/dense/kernel:0', 'tf_bert_model_9/bert/pooler/dense/bias:0'] when minimizing the loss.\n"
          ],
          "name": "stdout"
        },
        {
          "output_type": "stream",
          "text": [
            "WARNING:tensorflow:Gradients do not exist for variables ['tf_bert_model_9/bert/pooler/dense/kernel:0', 'tf_bert_model_9/bert/pooler/dense/bias:0'] when minimizing the loss.\n"
          ],
          "name": "stderr"
        },
        {
          "output_type": "stream",
          "text": [
            "283/283 [==============================] - 52s 184ms/step - acc: 0.0072 - loss: 5.9566 - val_acc: 0.0512 - val_loss: 5.0980\n",
            "Epoch 2/150\n",
            "283/283 [==============================] - 25s 89ms/step - acc: 0.1539 - loss: 3.9304 - val_acc: 0.3739 - val_loss: 2.9505\n",
            "Epoch 3/150\n",
            "283/283 [==============================] - 24s 86ms/step - acc: 0.4358 - loss: 1.9267 - val_acc: 0.5619 - val_loss: 1.9196\n",
            "Epoch 4/150\n",
            "283/283 [==============================] - 24s 86ms/step - acc: 0.6288 - loss: 1.0166 - val_acc: 0.6703 - val_loss: 1.3695\n",
            "Epoch 5/150\n",
            "283/283 [==============================] - 25s 87ms/step - acc: 0.7510 - loss: 0.5887 - val_acc: 0.7384 - val_loss: 1.0531\n",
            "Epoch 6/150\n",
            "283/283 [==============================] - 24s 86ms/step - acc: 0.8226 - loss: 0.3651 - val_acc: 0.7638 - val_loss: 0.8768\n",
            "Epoch 7/150\n",
            "283/283 [==============================] - 24s 86ms/step - acc: 0.8776 - loss: 0.2384 - val_acc: 0.8011 - val_loss: 0.7433\n",
            "Epoch 8/150\n",
            "283/283 [==============================] - 24s 86ms/step - acc: 0.9140 - loss: 0.1595 - val_acc: 0.8195 - val_loss: 0.6946\n",
            "Epoch 9/150\n",
            "283/283 [==============================] - 25s 87ms/step - acc: 0.9376 - loss: 0.1088 - val_acc: 0.8364 - val_loss: 0.6306\n",
            "Epoch 10/150\n",
            "283/283 [==============================] - 25s 87ms/step - acc: 0.9536 - loss: 0.0812 - val_acc: 0.8523 - val_loss: 0.6096\n",
            "Epoch 11/150\n",
            "283/283 [==============================] - 23s 83ms/step - acc: 0.9633 - loss: 0.0690 - val_acc: 0.8488 - val_loss: 0.6135\n",
            "Epoch 12/150\n",
            "283/283 [==============================] - 24s 84ms/step - acc: 0.9593 - loss: 0.0866 - val_acc: 0.8429 - val_loss: 0.6644\n",
            "Epoch 13/150\n",
            "283/283 [==============================] - 23s 81ms/step - acc: 0.9671 - loss: 0.0621 - val_acc: 0.8513 - val_loss: 0.6069\n",
            "Epoch 14/150\n",
            "283/283 [==============================] - 24s 86ms/step - acc: 0.9788 - loss: 0.0411 - val_acc: 0.8608 - val_loss: 0.5951\n",
            "Epoch 15/150\n",
            "283/283 [==============================] - 23s 83ms/step - acc: 0.9814 - loss: 0.0438 - val_acc: 0.8458 - val_loss: 0.6338\n",
            "Epoch 16/150\n",
            "283/283 [==============================] - 24s 86ms/step - acc: 0.9747 - loss: 0.0793 - val_acc: 0.8409 - val_loss: 0.6871\n",
            "Epoch 17/150\n",
            "283/283 [==============================] - 25s 89ms/step - acc: 0.9803 - loss: 0.0406 - val_acc: 0.8613 - val_loss: 0.6244\n",
            "Epoch 18/150\n",
            "283/283 [==============================] - 24s 84ms/step - acc: 0.9889 - loss: 0.0251 - val_acc: 0.8662 - val_loss: 0.5910\n",
            "Epoch 19/150\n",
            "283/283 [==============================] - 24s 84ms/step - acc: 0.9902 - loss: 0.0259 - val_acc: 0.8523 - val_loss: 0.6431\n",
            "Epoch 20/150\n",
            "283/283 [==============================] - 25s 87ms/step - acc: 0.9923 - loss: 0.0190 - val_acc: 0.8717 - val_loss: 0.6302\n",
            "Epoch 21/150\n",
            "283/283 [==============================] - 23s 82ms/step - acc: 0.9872 - loss: 0.0293 - val_acc: 0.8533 - val_loss: 0.7142\n",
            "Epoch 22/150\n",
            "283/283 [==============================] - 23s 82ms/step - acc: 0.9648 - loss: 0.1021 - val_acc: 0.8374 - val_loss: 0.7087\n",
            "Epoch 23/150\n",
            "283/283 [==============================] - 23s 83ms/step - acc: 0.9768 - loss: 0.0619 - val_acc: 0.8593 - val_loss: 0.6563\n",
            "Epoch 24/150\n",
            "283/283 [==============================] - 24s 83ms/step - acc: 0.9908 - loss: 0.0187 - val_acc: 0.8677 - val_loss: 0.6366\n",
            "Epoch 25/150\n",
            "283/283 [==============================] - ETA: 0s - acc: 0.9949 - loss: 0.0110Restoring model weights from the end of the best epoch.\n",
            "283/283 [==============================] - 26s 93ms/step - acc: 0.9949 - loss: 0.0110 - val_acc: 0.8692 - val_loss: 0.6515\n",
            "Epoch 00025: early stopping\n",
            "Balanced Acc for: \n",
            "\n",
            "########## Balanced Acc: 0.82831594 ##########\n",
            "\n",
            "WARNING:tensorflow:TPU system grpc://10.14.42.210:8470 has already been initialized. Reinitializing the TPU can cause previously created variables on TPU to be lost.\n"
          ],
          "name": "stdout"
        },
        {
          "output_type": "stream",
          "text": [
            "WARNING:tensorflow:TPU system grpc://10.14.42.210:8470 has already been initialized. Reinitializing the TPU can cause previously created variables on TPU to be lost.\n"
          ],
          "name": "stderr"
        },
        {
          "output_type": "stream",
          "text": [
            "INFO:tensorflow:Initializing the TPU system: grpc://10.14.42.210:8470\n"
          ],
          "name": "stdout"
        },
        {
          "output_type": "stream",
          "text": [
            "INFO:tensorflow:Initializing the TPU system: grpc://10.14.42.210:8470\n"
          ],
          "name": "stderr"
        },
        {
          "output_type": "stream",
          "text": [
            "INFO:tensorflow:Clearing out eager caches\n"
          ],
          "name": "stdout"
        },
        {
          "output_type": "stream",
          "text": [
            "INFO:tensorflow:Clearing out eager caches\n"
          ],
          "name": "stderr"
        },
        {
          "output_type": "stream",
          "text": [
            "INFO:tensorflow:Finished initializing TPU system.\n"
          ],
          "name": "stdout"
        },
        {
          "output_type": "stream",
          "text": [
            "INFO:tensorflow:Finished initializing TPU system.\n"
          ],
          "name": "stderr"
        },
        {
          "output_type": "stream",
          "text": [
            "🚀 Starting kfold iteration: 8/9\n"
          ],
          "name": "stdout"
        },
        {
          "output_type": "stream",
          "text": [
            "WARNING:transformers.modeling_tf_pytorch_utils:All PyTorch model weights were used when initializing TFBertModel.\n",
            "\n",
            "WARNING:transformers.modeling_tf_pytorch_utils:Some weights or buffers of the PyTorch model TFBertModel were not initialized from the TF 2.0 model and are newly initialized: ['cls.predictions.decoder.weight', 'cls.predictions.bias', 'cls.predictions.transform.dense.weight', 'cls.predictions.transform.dense.bias', 'cls.predictions.transform.LayerNorm.bias', 'cls.predictions.transform.LayerNorm.weight']\n",
            "You should probably TRAIN this model on a down-stream task to be able to use it for predictions and inference.\n"
          ],
          "name": "stderr"
        },
        {
          "output_type": "stream",
          "text": [
            "Model: \"model_10\"\n",
            "_________________________________________________________________\n",
            "Layer (type)                 Output Shape              Param #   \n",
            "=================================================================\n",
            "input_11 (InputLayer)        [(None, 30)]              0         \n",
            "_________________________________________________________________\n",
            "tf_bert_model_10 (TFBertMode ((None, 30, 768), (None,  109850880 \n",
            "_________________________________________________________________\n",
            "tf_op_layer_strided_slice_10 [(None, 768)]             0         \n",
            "_________________________________________________________________\n",
            "dropout_417 (Dropout)        (None, 768)               0         \n",
            "_________________________________________________________________\n",
            "dense_10 (Dense)             (None, 352)               270688    \n",
            "=================================================================\n",
            "Total params: 110,121,568\n",
            "Trainable params: 110,121,568\n",
            "Non-trainable params: 0\n",
            "_________________________________________________________________\n",
            "Epoch 1/150\n",
            "WARNING:tensorflow:Gradients do not exist for variables ['tf_bert_model_10/bert/pooler/dense/kernel:0', 'tf_bert_model_10/bert/pooler/dense/bias:0'] when minimizing the loss.\n"
          ],
          "name": "stdout"
        },
        {
          "output_type": "stream",
          "text": [
            "WARNING:tensorflow:Gradients do not exist for variables ['tf_bert_model_10/bert/pooler/dense/kernel:0', 'tf_bert_model_10/bert/pooler/dense/bias:0'] when minimizing the loss.\n"
          ],
          "name": "stderr"
        },
        {
          "output_type": "stream",
          "text": [
            "WARNING:tensorflow:Gradients do not exist for variables ['tf_bert_model_10/bert/pooler/dense/kernel:0', 'tf_bert_model_10/bert/pooler/dense/bias:0'] when minimizing the loss.\n"
          ],
          "name": "stdout"
        },
        {
          "output_type": "stream",
          "text": [
            "WARNING:tensorflow:Gradients do not exist for variables ['tf_bert_model_10/bert/pooler/dense/kernel:0', 'tf_bert_model_10/bert/pooler/dense/bias:0'] when minimizing the loss.\n"
          ],
          "name": "stderr"
        },
        {
          "output_type": "stream",
          "text": [
            "WARNING:tensorflow:Gradients do not exist for variables ['tf_bert_model_10/bert/pooler/dense/kernel:0', 'tf_bert_model_10/bert/pooler/dense/bias:0'] when minimizing the loss.\n"
          ],
          "name": "stdout"
        },
        {
          "output_type": "stream",
          "text": [
            "WARNING:tensorflow:Gradients do not exist for variables ['tf_bert_model_10/bert/pooler/dense/kernel:0', 'tf_bert_model_10/bert/pooler/dense/bias:0'] when minimizing the loss.\n"
          ],
          "name": "stderr"
        },
        {
          "output_type": "stream",
          "text": [
            "WARNING:tensorflow:Gradients do not exist for variables ['tf_bert_model_10/bert/pooler/dense/kernel:0', 'tf_bert_model_10/bert/pooler/dense/bias:0'] when minimizing the loss.\n"
          ],
          "name": "stdout"
        },
        {
          "output_type": "stream",
          "text": [
            "WARNING:tensorflow:Gradients do not exist for variables ['tf_bert_model_10/bert/pooler/dense/kernel:0', 'tf_bert_model_10/bert/pooler/dense/bias:0'] when minimizing the loss.\n"
          ],
          "name": "stderr"
        },
        {
          "output_type": "stream",
          "text": [
            "283/283 [==============================] - 52s 186ms/step - acc: 0.0037 - loss: 6.1736 - val_acc: 0.0144 - val_loss: 5.7887\n",
            "Epoch 2/150\n",
            "283/283 [==============================] - 24s 86ms/step - acc: 0.0583 - loss: 4.9449 - val_acc: 0.2771 - val_loss: 3.6874\n",
            "Epoch 3/150\n",
            "283/283 [==============================] - 25s 87ms/step - acc: 0.3211 - loss: 2.6107 - val_acc: 0.5010 - val_loss: 2.2196\n",
            "Epoch 4/150\n",
            "283/283 [==============================] - 25s 89ms/step - acc: 0.5534 - loss: 1.3750 - val_acc: 0.6557 - val_loss: 1.4880\n",
            "Epoch 5/150\n",
            "283/283 [==============================] - 25s 89ms/step - acc: 0.7006 - loss: 0.7769 - val_acc: 0.7348 - val_loss: 1.1060\n",
            "Epoch 6/150\n",
            "283/283 [==============================] - 25s 87ms/step - acc: 0.7895 - loss: 0.4725 - val_acc: 0.7766 - val_loss: 0.9022\n",
            "Epoch 7/150\n",
            "283/283 [==============================] - 25s 87ms/step - acc: 0.8550 - loss: 0.3022 - val_acc: 0.8100 - val_loss: 0.7594\n",
            "Epoch 8/150\n",
            "283/283 [==============================] - 24s 86ms/step - acc: 0.8946 - loss: 0.2006 - val_acc: 0.8313 - val_loss: 0.6807\n",
            "Epoch 9/150\n",
            "283/283 [==============================] - 24s 85ms/step - acc: 0.9235 - loss: 0.1385 - val_acc: 0.8473 - val_loss: 0.6241\n",
            "Epoch 10/150\n",
            "283/283 [==============================] - 24s 86ms/step - acc: 0.9457 - loss: 0.0931 - val_acc: 0.8612 - val_loss: 0.5760\n",
            "Epoch 11/150\n",
            "283/283 [==============================] - 24s 86ms/step - acc: 0.9573 - loss: 0.0754 - val_acc: 0.8642 - val_loss: 0.5719\n",
            "Epoch 12/150\n",
            "283/283 [==============================] - 25s 88ms/step - acc: 0.9675 - loss: 0.0593 - val_acc: 0.8751 - val_loss: 0.5353\n",
            "Epoch 13/150\n",
            "283/283 [==============================] - 24s 83ms/step - acc: 0.9731 - loss: 0.0493 - val_acc: 0.8736 - val_loss: 0.5523\n",
            "Epoch 14/150\n",
            "283/283 [==============================] - 23s 82ms/step - acc: 0.9773 - loss: 0.0411 - val_acc: 0.8731 - val_loss: 0.5546\n",
            "Epoch 15/150\n",
            "283/283 [==============================] - 23s 82ms/step - acc: 0.9808 - loss: 0.0392 - val_acc: 0.8741 - val_loss: 0.5631\n",
            "Epoch 16/150\n",
            "283/283 [==============================] - 25s 87ms/step - acc: 0.9820 - loss: 0.0385 - val_acc: 0.8816 - val_loss: 0.5664\n",
            "Epoch 17/150\n",
            "283/283 [==============================] - 24s 85ms/step - acc: 0.9869 - loss: 0.0337 - val_acc: 0.8771 - val_loss: 0.5848\n",
            "Epoch 18/150\n",
            "283/283 [==============================] - 24s 85ms/step - acc: 0.9798 - loss: 0.0383 - val_acc: 0.8706 - val_loss: 0.5895\n",
            "Epoch 19/150\n",
            "283/283 [==============================] - 24s 84ms/step - acc: 0.9745 - loss: 0.0650 - val_acc: 0.8587 - val_loss: 0.6558\n",
            "Epoch 20/150\n",
            "283/283 [==============================] - 23s 82ms/step - acc: 0.9784 - loss: 0.0527 - val_acc: 0.8567 - val_loss: 0.6790\n",
            "Epoch 21/150\n",
            "283/283 [==============================] - ETA: 0s - acc: 0.9814 - loss: 0.0395Restoring model weights from the end of the best epoch.\n",
            "283/283 [==============================] - 26s 91ms/step - acc: 0.9814 - loss: 0.0395 - val_acc: 0.8677 - val_loss: 0.6016\n",
            "Epoch 00021: early stopping\n",
            "Balanced Acc for: \n",
            "\n",
            "########## Balanced Acc: 0.85884241 ##########\n",
            "\n",
            "WARNING:tensorflow:TPU system grpc://10.14.42.210:8470 has already been initialized. Reinitializing the TPU can cause previously created variables on TPU to be lost.\n"
          ],
          "name": "stdout"
        },
        {
          "output_type": "stream",
          "text": [
            "WARNING:tensorflow:TPU system grpc://10.14.42.210:8470 has already been initialized. Reinitializing the TPU can cause previously created variables on TPU to be lost.\n"
          ],
          "name": "stderr"
        },
        {
          "output_type": "stream",
          "text": [
            "INFO:tensorflow:Initializing the TPU system: grpc://10.14.42.210:8470\n"
          ],
          "name": "stdout"
        },
        {
          "output_type": "stream",
          "text": [
            "INFO:tensorflow:Initializing the TPU system: grpc://10.14.42.210:8470\n"
          ],
          "name": "stderr"
        },
        {
          "output_type": "stream",
          "text": [
            "INFO:tensorflow:Clearing out eager caches\n"
          ],
          "name": "stdout"
        },
        {
          "output_type": "stream",
          "text": [
            "INFO:tensorflow:Clearing out eager caches\n"
          ],
          "name": "stderr"
        },
        {
          "output_type": "stream",
          "text": [
            "INFO:tensorflow:Finished initializing TPU system.\n"
          ],
          "name": "stdout"
        },
        {
          "output_type": "stream",
          "text": [
            "INFO:tensorflow:Finished initializing TPU system.\n"
          ],
          "name": "stderr"
        },
        {
          "output_type": "stream",
          "text": [
            "🚀 Starting kfold iteration: 9/9\n"
          ],
          "name": "stdout"
        },
        {
          "output_type": "stream",
          "text": [
            "WARNING:transformers.modeling_tf_pytorch_utils:All PyTorch model weights were used when initializing TFBertModel.\n",
            "\n",
            "WARNING:transformers.modeling_tf_pytorch_utils:Some weights or buffers of the PyTorch model TFBertModel were not initialized from the TF 2.0 model and are newly initialized: ['cls.predictions.decoder.weight', 'cls.predictions.bias', 'cls.predictions.transform.dense.weight', 'cls.predictions.transform.dense.bias', 'cls.predictions.transform.LayerNorm.bias', 'cls.predictions.transform.LayerNorm.weight']\n",
            "You should probably TRAIN this model on a down-stream task to be able to use it for predictions and inference.\n"
          ],
          "name": "stderr"
        },
        {
          "output_type": "stream",
          "text": [
            "Model: \"model_11\"\n",
            "_________________________________________________________________\n",
            "Layer (type)                 Output Shape              Param #   \n",
            "=================================================================\n",
            "input_12 (InputLayer)        [(None, 30)]              0         \n",
            "_________________________________________________________________\n",
            "tf_bert_model_11 (TFBertMode ((None, 30, 768), (None,  109850880 \n",
            "_________________________________________________________________\n",
            "tf_op_layer_strided_slice_11 [(None, 768)]             0         \n",
            "_________________________________________________________________\n",
            "dropout_455 (Dropout)        (None, 768)               0         \n",
            "_________________________________________________________________\n",
            "dense_11 (Dense)             (None, 352)               270688    \n",
            "=================================================================\n",
            "Total params: 110,121,568\n",
            "Trainable params: 110,121,568\n",
            "Non-trainable params: 0\n",
            "_________________________________________________________________\n",
            "Epoch 1/150\n",
            "WARNING:tensorflow:Gradients do not exist for variables ['tf_bert_model_11/bert/pooler/dense/kernel:0', 'tf_bert_model_11/bert/pooler/dense/bias:0'] when minimizing the loss.\n"
          ],
          "name": "stdout"
        },
        {
          "output_type": "stream",
          "text": [
            "WARNING:tensorflow:Gradients do not exist for variables ['tf_bert_model_11/bert/pooler/dense/kernel:0', 'tf_bert_model_11/bert/pooler/dense/bias:0'] when minimizing the loss.\n"
          ],
          "name": "stderr"
        },
        {
          "output_type": "stream",
          "text": [
            "WARNING:tensorflow:Gradients do not exist for variables ['tf_bert_model_11/bert/pooler/dense/kernel:0', 'tf_bert_model_11/bert/pooler/dense/bias:0'] when minimizing the loss.\n"
          ],
          "name": "stdout"
        },
        {
          "output_type": "stream",
          "text": [
            "WARNING:tensorflow:Gradients do not exist for variables ['tf_bert_model_11/bert/pooler/dense/kernel:0', 'tf_bert_model_11/bert/pooler/dense/bias:0'] when minimizing the loss.\n"
          ],
          "name": "stderr"
        },
        {
          "output_type": "stream",
          "text": [
            "WARNING:tensorflow:Gradients do not exist for variables ['tf_bert_model_11/bert/pooler/dense/kernel:0', 'tf_bert_model_11/bert/pooler/dense/bias:0'] when minimizing the loss.\n"
          ],
          "name": "stdout"
        },
        {
          "output_type": "stream",
          "text": [
            "WARNING:tensorflow:Gradients do not exist for variables ['tf_bert_model_11/bert/pooler/dense/kernel:0', 'tf_bert_model_11/bert/pooler/dense/bias:0'] when minimizing the loss.\n"
          ],
          "name": "stderr"
        },
        {
          "output_type": "stream",
          "text": [
            "WARNING:tensorflow:Gradients do not exist for variables ['tf_bert_model_11/bert/pooler/dense/kernel:0', 'tf_bert_model_11/bert/pooler/dense/bias:0'] when minimizing the loss.\n"
          ],
          "name": "stdout"
        },
        {
          "output_type": "stream",
          "text": [
            "WARNING:tensorflow:Gradients do not exist for variables ['tf_bert_model_11/bert/pooler/dense/kernel:0', 'tf_bert_model_11/bert/pooler/dense/bias:0'] when minimizing the loss.\n"
          ],
          "name": "stderr"
        },
        {
          "output_type": "stream",
          "text": [
            "283/283 [==============================] - 52s 184ms/step - acc: 0.0030 - loss: 6.0735 - val_acc: 0.0085 - val_loss: 5.5955\n",
            "Epoch 2/150\n",
            "283/283 [==============================] - 24s 84ms/step - acc: 0.0735 - loss: 4.7979 - val_acc: 0.2796 - val_loss: 3.5352\n",
            "Epoch 3/150\n",
            "283/283 [==============================] - 24s 84ms/step - acc: 0.3524 - loss: 2.4606 - val_acc: 0.5194 - val_loss: 2.1130\n",
            "Epoch 4/150\n",
            "283/283 [==============================] - 25s 87ms/step - acc: 0.5752 - loss: 1.2602 - val_acc: 0.6343 - val_loss: 1.5248\n",
            "Epoch 5/150\n",
            "283/283 [==============================] - 25s 87ms/step - acc: 0.7044 - loss: 0.7222 - val_acc: 0.7080 - val_loss: 1.1419\n",
            "Epoch 6/150\n",
            "283/283 [==============================] - 25s 87ms/step - acc: 0.7902 - loss: 0.4447 - val_acc: 0.7687 - val_loss: 0.9418\n",
            "Epoch 7/150\n",
            "283/283 [==============================] - 25s 87ms/step - acc: 0.8518 - loss: 0.2841 - val_acc: 0.7905 - val_loss: 0.8444\n",
            "Epoch 8/150\n",
            "283/283 [==============================] - 25s 87ms/step - acc: 0.8905 - loss: 0.1934 - val_acc: 0.8095 - val_loss: 0.7573\n",
            "Epoch 9/150\n",
            "283/283 [==============================] - 24s 86ms/step - acc: 0.9168 - loss: 0.1452 - val_acc: 0.8239 - val_loss: 0.6911\n",
            "Epoch 10/150\n",
            "283/283 [==============================] - 24s 86ms/step - acc: 0.9378 - loss: 0.1065 - val_acc: 0.8328 - val_loss: 0.6655\n",
            "Epoch 11/150\n",
            "283/283 [==============================] - 25s 87ms/step - acc: 0.9523 - loss: 0.0765 - val_acc: 0.8403 - val_loss: 0.6302\n",
            "Epoch 12/150\n",
            "283/283 [==============================] - 25s 87ms/step - acc: 0.9666 - loss: 0.0559 - val_acc: 0.8468 - val_loss: 0.6222\n",
            "Epoch 13/150\n",
            "283/283 [==============================] - 25s 88ms/step - acc: 0.9677 - loss: 0.0529 - val_acc: 0.8493 - val_loss: 0.6075\n",
            "Epoch 14/150\n",
            "283/283 [==============================] - 25s 87ms/step - acc: 0.9764 - loss: 0.0419 - val_acc: 0.8652 - val_loss: 0.5844\n",
            "Epoch 15/150\n",
            "283/283 [==============================] - 23s 82ms/step - acc: 0.9792 - loss: 0.0406 - val_acc: 0.8612 - val_loss: 0.6105\n",
            "Epoch 16/150\n",
            "283/283 [==============================] - 23s 82ms/step - acc: 0.9785 - loss: 0.0400 - val_acc: 0.8597 - val_loss: 0.6242\n",
            "Epoch 17/150\n",
            "283/283 [==============================] - 23s 83ms/step - acc: 0.9783 - loss: 0.0521 - val_acc: 0.8368 - val_loss: 0.6501\n",
            "Epoch 18/150\n",
            "283/283 [==============================] - 23s 81ms/step - acc: 0.9591 - loss: 0.1247 - val_acc: 0.8239 - val_loss: 0.7781\n",
            "Epoch 19/150\n",
            "283/283 [==============================] - ETA: 0s - acc: 0.9655 - loss: 0.0966Restoring model weights from the end of the best epoch.\n",
            "283/283 [==============================] - 25s 89ms/step - acc: 0.9655 - loss: 0.0966 - val_acc: 0.8363 - val_loss: 0.6945\n",
            "Epoch 00019: early stopping\n",
            "Balanced Acc for: \n",
            "\n",
            "########## Balanced Acc: 0.83389915 ##########\n",
            "\n"
          ],
          "name": "stdout"
        },
        {
          "output_type": "display_data",
          "data": {
            "text/plain": [
              "<Figure size 432x288 with 0 Axes>"
            ]
          },
          "metadata": {
            "tags": []
          }
        }
      ]
    },
    {
      "cell_type": "code",
      "metadata": {
        "id": "u-zSPGqWKoli",
        "colab_type": "code",
        "colab": {
          "base_uri": "https://localhost:8080/",
          "height": 70
        },
        "outputId": "1ba64169-b279-4606-f8f9-7a0db1c337c1"
      },
      "source": [
        "summed = np.sum(scores, axis=0)\n",
        "print (\"\\n########## Global Balanced Acc: %0.8f ##########\\n\" % (summed/len(scores)) )"
      ],
      "execution_count": 20,
      "outputs": [
        {
          "output_type": "stream",
          "text": [
            "\n",
            "########## Global Balanced Acc: 0.83384129 ##########\n",
            "\n"
          ],
          "name": "stdout"
        }
      ]
    },
    {
      "cell_type": "code",
      "metadata": {
        "trusted": true,
        "id": "R2zhveWIO5uS",
        "colab_type": "code",
        "colab": {}
      },
      "source": [
        "summed = np.sum(predictions, axis=0)\n",
        "np.save('bert.npy', summed)"
      ],
      "execution_count": 24,
      "outputs": []
    },
    {
      "cell_type": "code",
      "metadata": {
        "id": "Ry5MuwMFhHhn",
        "colab_type": "code",
        "colab": {
          "base_uri": "https://localhost:8080/",
          "height": 35
        },
        "outputId": "85d5c865-4286-4092-9289-8674c1ab1cd9"
      },
      "source": [
        "pred_summed = np.load('bert.npy', allow_pickle=True)\n",
        "labels[np.argmax(pred_summed[0])]"
      ],
      "execution_count": 28,
      "outputs": [
        {
          "output_type": "execute_result",
          "data": {
            "application/vnd.google.colaboratory.intrinsic": {
              "type": "string"
            },
            "text/plain": [
              "'Cat_303'"
            ]
          },
          "metadata": {
            "tags": []
          },
          "execution_count": 28
        }
      ]
    },
    {
      "cell_type": "code",
      "metadata": {
        "id": "AxQio-XogdIz",
        "colab_type": "code",
        "colab": {
          "base_uri": "https://localhost:8080/",
          "height": 16
        },
        "outputId": "a3491933-9120-49e0-c2dd-e32dc108d136"
      },
      "source": [
        "# Download predictions, test ids and labels\n",
        "\n",
        "from google.colab import files\n",
        "files.download('bert.npy')  # Predictions\n",
        "files.download('labels.npy') # Mapping indexes to Cat_[Index]\n",
        "files.download('test_ids.npy') # Mapping test id to test index"
      ],
      "execution_count": 29,
      "outputs": [
        {
          "output_type": "display_data",
          "data": {
            "application/javascript": [
              "\n",
              "    async function download(id, filename, size) {\n",
              "      if (!google.colab.kernel.accessAllowed) {\n",
              "        return;\n",
              "      }\n",
              "      const div = document.createElement('div');\n",
              "      const label = document.createElement('label');\n",
              "      label.textContent = `Downloading \"${filename}\": `;\n",
              "      div.appendChild(label);\n",
              "      const progress = document.createElement('progress');\n",
              "      progress.max = size;\n",
              "      div.appendChild(progress);\n",
              "      document.body.appendChild(div);\n",
              "\n",
              "      const buffers = [];\n",
              "      let downloaded = 0;\n",
              "\n",
              "      const channel = await google.colab.kernel.comms.open(id);\n",
              "      // Send a message to notify the kernel that we're ready.\n",
              "      channel.send({})\n",
              "\n",
              "      for await (const message of channel.messages) {\n",
              "        // Send a message to notify the kernel that we're ready.\n",
              "        channel.send({})\n",
              "        if (message.buffers) {\n",
              "          for (const buffer of message.buffers) {\n",
              "            buffers.push(buffer);\n",
              "            downloaded += buffer.byteLength;\n",
              "            progress.value = downloaded;\n",
              "          }\n",
              "        }\n",
              "      }\n",
              "      const blob = new Blob(buffers, {type: 'application/binary'});\n",
              "      const a = document.createElement('a');\n",
              "      a.href = window.URL.createObjectURL(blob);\n",
              "      a.download = filename;\n",
              "      div.appendChild(a);\n",
              "      a.click();\n",
              "      div.remove();\n",
              "    }\n",
              "  "
            ],
            "text/plain": [
              "<IPython.core.display.Javascript object>"
            ]
          },
          "metadata": {
            "tags": []
          }
        },
        {
          "output_type": "display_data",
          "data": {
            "application/javascript": [
              "download(\"download_5f7c2964-b3a7-43f9-a7d6-1d956ded1f37\", \"bert.npy\", 9436544)"
            ],
            "text/plain": [
              "<IPython.core.display.Javascript object>"
            ]
          },
          "metadata": {
            "tags": []
          }
        },
        {
          "output_type": "display_data",
          "data": {
            "application/javascript": [
              "\n",
              "    async function download(id, filename, size) {\n",
              "      if (!google.colab.kernel.accessAllowed) {\n",
              "        return;\n",
              "      }\n",
              "      const div = document.createElement('div');\n",
              "      const label = document.createElement('label');\n",
              "      label.textContent = `Downloading \"${filename}\": `;\n",
              "      div.appendChild(label);\n",
              "      const progress = document.createElement('progress');\n",
              "      progress.max = size;\n",
              "      div.appendChild(progress);\n",
              "      document.body.appendChild(div);\n",
              "\n",
              "      const buffers = [];\n",
              "      let downloaded = 0;\n",
              "\n",
              "      const channel = await google.colab.kernel.comms.open(id);\n",
              "      // Send a message to notify the kernel that we're ready.\n",
              "      channel.send({})\n",
              "\n",
              "      for await (const message of channel.messages) {\n",
              "        // Send a message to notify the kernel that we're ready.\n",
              "        channel.send({})\n",
              "        if (message.buffers) {\n",
              "          for (const buffer of message.buffers) {\n",
              "            buffers.push(buffer);\n",
              "            downloaded += buffer.byteLength;\n",
              "            progress.value = downloaded;\n",
              "          }\n",
              "        }\n",
              "      }\n",
              "      const blob = new Blob(buffers, {type: 'application/binary'});\n",
              "      const a = document.createElement('a');\n",
              "      a.href = window.URL.createObjectURL(blob);\n",
              "      a.download = filename;\n",
              "      div.appendChild(a);\n",
              "      a.click();\n",
              "      div.remove();\n",
              "    }\n",
              "  "
            ],
            "text/plain": [
              "<IPython.core.display.Javascript object>"
            ]
          },
          "metadata": {
            "tags": []
          }
        },
        {
          "output_type": "display_data",
          "data": {
            "application/javascript": [
              "download(\"download_6b83c3b8-c880-4748-93c3-211d5fa534b1\", \"labels.npy\", 5438)"
            ],
            "text/plain": [
              "<IPython.core.display.Javascript object>"
            ]
          },
          "metadata": {
            "tags": []
          }
        },
        {
          "output_type": "display_data",
          "data": {
            "application/javascript": [
              "\n",
              "    async function download(id, filename, size) {\n",
              "      if (!google.colab.kernel.accessAllowed) {\n",
              "        return;\n",
              "      }\n",
              "      const div = document.createElement('div');\n",
              "      const label = document.createElement('label');\n",
              "      label.textContent = `Downloading \"${filename}\": `;\n",
              "      div.appendChild(label);\n",
              "      const progress = document.createElement('progress');\n",
              "      progress.max = size;\n",
              "      div.appendChild(progress);\n",
              "      document.body.appendChild(div);\n",
              "\n",
              "      const buffers = [];\n",
              "      let downloaded = 0;\n",
              "\n",
              "      const channel = await google.colab.kernel.comms.open(id);\n",
              "      // Send a message to notify the kernel that we're ready.\n",
              "      channel.send({})\n",
              "\n",
              "      for await (const message of channel.messages) {\n",
              "        // Send a message to notify the kernel that we're ready.\n",
              "        channel.send({})\n",
              "        if (message.buffers) {\n",
              "          for (const buffer of message.buffers) {\n",
              "            buffers.push(buffer);\n",
              "            downloaded += buffer.byteLength;\n",
              "            progress.value = downloaded;\n",
              "          }\n",
              "        }\n",
              "      }\n",
              "      const blob = new Blob(buffers, {type: 'application/binary'});\n",
              "      const a = document.createElement('a');\n",
              "      a.href = window.URL.createObjectURL(blob);\n",
              "      a.download = filename;\n",
              "      div.appendChild(a);\n",
              "      a.click();\n",
              "      div.remove();\n",
              "    }\n",
              "  "
            ],
            "text/plain": [
              "<IPython.core.display.Javascript object>"
            ]
          },
          "metadata": {
            "tags": []
          }
        },
        {
          "output_type": "display_data",
          "data": {
            "application/javascript": [
              "download(\"download_bd36e06e-a108-43d2-af20-e6656f87036a\", \"test_ids.npy\", 53744)"
            ],
            "text/plain": [
              "<IPython.core.display.Javascript object>"
            ]
          },
          "metadata": {
            "tags": []
          }
        }
      ]
    }
  ]
}